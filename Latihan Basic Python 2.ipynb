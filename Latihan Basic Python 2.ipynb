{
 "cells": [
  {
   "cell_type": "code",
   "execution_count": 1,
   "id": "21db0bfc",
   "metadata": {},
   "outputs": [],
   "source": [
    "import pandas as pd"
   ]
  },
  {
   "cell_type": "code",
   "execution_count": 2,
   "id": "f4aaa14c",
   "metadata": {},
   "outputs": [
    {
     "name": "stdout",
     "output_type": "stream",
     "text": [
      "Help on function read_csv in module pandas.io.parsers.readers:\n",
      "\n",
      "read_csv(filepath_or_buffer: 'FilePathOrBuffer', sep=<no_default>, delimiter=None, header='infer', names=<no_default>, index_col=None, usecols=None, squeeze=False, prefix=<no_default>, mangle_dupe_cols=True, dtype: 'DtypeArg | None' = None, engine=None, converters=None, true_values=None, false_values=None, skipinitialspace=False, skiprows=None, skipfooter=0, nrows=None, na_values=None, keep_default_na=True, na_filter=True, verbose=False, skip_blank_lines=True, parse_dates=False, infer_datetime_format=False, keep_date_col=False, date_parser=None, dayfirst=False, cache_dates=True, iterator=False, chunksize=None, compression='infer', thousands=None, decimal: 'str' = '.', lineterminator=None, quotechar='\"', quoting=0, doublequote=True, escapechar=None, comment=None, encoding=None, encoding_errors: 'str | None' = 'strict', dialect=None, error_bad_lines=None, warn_bad_lines=None, on_bad_lines=None, delim_whitespace=False, low_memory=True, memory_map=False, float_precision=None, storage_options: 'StorageOptions' = None)\n",
      "    Read a comma-separated values (csv) file into DataFrame.\n",
      "    \n",
      "    Also supports optionally iterating or breaking of the file\n",
      "    into chunks.\n",
      "    \n",
      "    Additional help can be found in the online docs for\n",
      "    `IO Tools <https://pandas.pydata.org/pandas-docs/stable/user_guide/io.html>`_.\n",
      "    \n",
      "    Parameters\n",
      "    ----------\n",
      "    filepath_or_buffer : str, path object or file-like object\n",
      "        Any valid string path is acceptable. The string could be a URL. Valid\n",
      "        URL schemes include http, ftp, s3, gs, and file. For file URLs, a host is\n",
      "        expected. A local file could be: file://localhost/path/to/table.csv.\n",
      "    \n",
      "        If you want to pass in a path object, pandas accepts any ``os.PathLike``.\n",
      "    \n",
      "        By file-like object, we refer to objects with a ``read()`` method, such as\n",
      "        a file handle (e.g. via builtin ``open`` function) or ``StringIO``.\n",
      "    sep : str, default ','\n",
      "        Delimiter to use. If sep is None, the C engine cannot automatically detect\n",
      "        the separator, but the Python parsing engine can, meaning the latter will\n",
      "        be used and automatically detect the separator by Python's builtin sniffer\n",
      "        tool, ``csv.Sniffer``. In addition, separators longer than 1 character and\n",
      "        different from ``'\\s+'`` will be interpreted as regular expressions and\n",
      "        will also force the use of the Python parsing engine. Note that regex\n",
      "        delimiters are prone to ignoring quoted data. Regex example: ``'\\r\\t'``.\n",
      "    delimiter : str, default ``None``\n",
      "        Alias for sep.\n",
      "    header : int, list of int, default 'infer'\n",
      "        Row number(s) to use as the column names, and the start of the\n",
      "        data.  Default behavior is to infer the column names: if no names\n",
      "        are passed the behavior is identical to ``header=0`` and column\n",
      "        names are inferred from the first line of the file, if column\n",
      "        names are passed explicitly then the behavior is identical to\n",
      "        ``header=None``. Explicitly pass ``header=0`` to be able to\n",
      "        replace existing names. The header can be a list of integers that\n",
      "        specify row locations for a multi-index on the columns\n",
      "        e.g. [0,1,3]. Intervening rows that are not specified will be\n",
      "        skipped (e.g. 2 in this example is skipped). Note that this\n",
      "        parameter ignores commented lines and empty lines if\n",
      "        ``skip_blank_lines=True``, so ``header=0`` denotes the first line of\n",
      "        data rather than the first line of the file.\n",
      "    names : array-like, optional\n",
      "        List of column names to use. If the file contains a header row,\n",
      "        then you should explicitly pass ``header=0`` to override the column names.\n",
      "        Duplicates in this list are not allowed.\n",
      "    index_col : int, str, sequence of int / str, or False, default ``None``\n",
      "      Column(s) to use as the row labels of the ``DataFrame``, either given as\n",
      "      string name or column index. If a sequence of int / str is given, a\n",
      "      MultiIndex is used.\n",
      "    \n",
      "      Note: ``index_col=False`` can be used to force pandas to *not* use the first\n",
      "      column as the index, e.g. when you have a malformed file with delimiters at\n",
      "      the end of each line.\n",
      "    usecols : list-like or callable, optional\n",
      "        Return a subset of the columns. If list-like, all elements must either\n",
      "        be positional (i.e. integer indices into the document columns) or strings\n",
      "        that correspond to column names provided either by the user in `names` or\n",
      "        inferred from the document header row(s). For example, a valid list-like\n",
      "        `usecols` parameter would be ``[0, 1, 2]`` or ``['foo', 'bar', 'baz']``.\n",
      "        Element order is ignored, so ``usecols=[0, 1]`` is the same as ``[1, 0]``.\n",
      "        To instantiate a DataFrame from ``data`` with element order preserved use\n",
      "        ``pd.read_csv(data, usecols=['foo', 'bar'])[['foo', 'bar']]`` for columns\n",
      "        in ``['foo', 'bar']`` order or\n",
      "        ``pd.read_csv(data, usecols=['foo', 'bar'])[['bar', 'foo']]``\n",
      "        for ``['bar', 'foo']`` order.\n",
      "    \n",
      "        If callable, the callable function will be evaluated against the column\n",
      "        names, returning names where the callable function evaluates to True. An\n",
      "        example of a valid callable argument would be ``lambda x: x.upper() in\n",
      "        ['AAA', 'BBB', 'DDD']``. Using this parameter results in much faster\n",
      "        parsing time and lower memory usage.\n",
      "    squeeze : bool, default False\n",
      "        If the parsed data only contains one column then return a Series.\n",
      "    prefix : str, optional\n",
      "        Prefix to add to column numbers when no header, e.g. 'X' for X0, X1, ...\n",
      "    mangle_dupe_cols : bool, default True\n",
      "        Duplicate columns will be specified as 'X', 'X.1', ...'X.N', rather than\n",
      "        'X'...'X'. Passing in False will cause data to be overwritten if there\n",
      "        are duplicate names in the columns.\n",
      "    dtype : Type name or dict of column -> type, optional\n",
      "        Data type for data or columns. E.g. {'a': np.float64, 'b': np.int32,\n",
      "        'c': 'Int64'}\n",
      "        Use `str` or `object` together with suitable `na_values` settings\n",
      "        to preserve and not interpret dtype.\n",
      "        If converters are specified, they will be applied INSTEAD\n",
      "        of dtype conversion.\n",
      "    engine : {'c', 'python'}, optional\n",
      "        Parser engine to use. The C engine is faster while the python engine is\n",
      "        currently more feature-complete.\n",
      "    converters : dict, optional\n",
      "        Dict of functions for converting values in certain columns. Keys can either\n",
      "        be integers or column labels.\n",
      "    true_values : list, optional\n",
      "        Values to consider as True.\n",
      "    false_values : list, optional\n",
      "        Values to consider as False.\n",
      "    skipinitialspace : bool, default False\n",
      "        Skip spaces after delimiter.\n",
      "    skiprows : list-like, int or callable, optional\n",
      "        Line numbers to skip (0-indexed) or number of lines to skip (int)\n",
      "        at the start of the file.\n",
      "    \n",
      "        If callable, the callable function will be evaluated against the row\n",
      "        indices, returning True if the row should be skipped and False otherwise.\n",
      "        An example of a valid callable argument would be ``lambda x: x in [0, 2]``.\n",
      "    skipfooter : int, default 0\n",
      "        Number of lines at bottom of file to skip (Unsupported with engine='c').\n",
      "    nrows : int, optional\n",
      "        Number of rows of file to read. Useful for reading pieces of large files.\n",
      "    na_values : scalar, str, list-like, or dict, optional\n",
      "        Additional strings to recognize as NA/NaN. If dict passed, specific\n",
      "        per-column NA values.  By default the following values are interpreted as\n",
      "        NaN: '', '#N/A', '#N/A N/A', '#NA', '-1.#IND', '-1.#QNAN', '-NaN', '-nan',\n",
      "        '1.#IND', '1.#QNAN', '<NA>', 'N/A', 'NA', 'NULL', 'NaN', 'n/a',\n",
      "        'nan', 'null'.\n",
      "    keep_default_na : bool, default True\n",
      "        Whether or not to include the default NaN values when parsing the data.\n",
      "        Depending on whether `na_values` is passed in, the behavior is as follows:\n",
      "    \n",
      "        * If `keep_default_na` is True, and `na_values` are specified, `na_values`\n",
      "          is appended to the default NaN values used for parsing.\n",
      "        * If `keep_default_na` is True, and `na_values` are not specified, only\n",
      "          the default NaN values are used for parsing.\n",
      "        * If `keep_default_na` is False, and `na_values` are specified, only\n",
      "          the NaN values specified `na_values` are used for parsing.\n",
      "        * If `keep_default_na` is False, and `na_values` are not specified, no\n",
      "          strings will be parsed as NaN.\n",
      "    \n",
      "        Note that if `na_filter` is passed in as False, the `keep_default_na` and\n",
      "        `na_values` parameters will be ignored.\n",
      "    na_filter : bool, default True\n",
      "        Detect missing value markers (empty strings and the value of na_values). In\n",
      "        data without any NAs, passing na_filter=False can improve the performance\n",
      "        of reading a large file.\n",
      "    verbose : bool, default False\n",
      "        Indicate number of NA values placed in non-numeric columns.\n",
      "    skip_blank_lines : bool, default True\n",
      "        If True, skip over blank lines rather than interpreting as NaN values.\n",
      "    parse_dates : bool or list of int or names or list of lists or dict, default False\n",
      "        The behavior is as follows:\n",
      "    \n",
      "        * boolean. If True -> try parsing the index.\n",
      "        * list of int or names. e.g. If [1, 2, 3] -> try parsing columns 1, 2, 3\n",
      "          each as a separate date column.\n",
      "        * list of lists. e.g.  If [[1, 3]] -> combine columns 1 and 3 and parse as\n",
      "          a single date column.\n",
      "        * dict, e.g. {'foo' : [1, 3]} -> parse columns 1, 3 as date and call\n",
      "          result 'foo'\n",
      "    \n",
      "        If a column or index cannot be represented as an array of datetimes,\n",
      "        say because of an unparsable value or a mixture of timezones, the column\n",
      "        or index will be returned unaltered as an object data type. For\n",
      "        non-standard datetime parsing, use ``pd.to_datetime`` after\n",
      "        ``pd.read_csv``. To parse an index or column with a mixture of timezones,\n",
      "        specify ``date_parser`` to be a partially-applied\n",
      "        :func:`pandas.to_datetime` with ``utc=True``. See\n",
      "        :ref:`io.csv.mixed_timezones` for more.\n",
      "    \n",
      "        Note: A fast-path exists for iso8601-formatted dates.\n",
      "    infer_datetime_format : bool, default False\n",
      "        If True and `parse_dates` is enabled, pandas will attempt to infer the\n",
      "        format of the datetime strings in the columns, and if it can be inferred,\n",
      "        switch to a faster method of parsing them. In some cases this can increase\n",
      "        the parsing speed by 5-10x.\n",
      "    keep_date_col : bool, default False\n",
      "        If True and `parse_dates` specifies combining multiple columns then\n",
      "        keep the original columns.\n",
      "    date_parser : function, optional\n",
      "        Function to use for converting a sequence of string columns to an array of\n",
      "        datetime instances. The default uses ``dateutil.parser.parser`` to do the\n",
      "        conversion. Pandas will try to call `date_parser` in three different ways,\n",
      "        advancing to the next if an exception occurs: 1) Pass one or more arrays\n",
      "        (as defined by `parse_dates`) as arguments; 2) concatenate (row-wise) the\n",
      "        string values from the columns defined by `parse_dates` into a single array\n",
      "        and pass that; and 3) call `date_parser` once for each row using one or\n",
      "        more strings (corresponding to the columns defined by `parse_dates`) as\n",
      "        arguments.\n",
      "    dayfirst : bool, default False\n",
      "        DD/MM format dates, international and European format.\n",
      "    cache_dates : bool, default True\n",
      "        If True, use a cache of unique, converted dates to apply the datetime\n",
      "        conversion. May produce significant speed-up when parsing duplicate\n",
      "        date strings, especially ones with timezone offsets.\n",
      "    \n",
      "        .. versionadded:: 0.25.0\n",
      "    iterator : bool, default False\n",
      "        Return TextFileReader object for iteration or getting chunks with\n",
      "        ``get_chunk()``.\n",
      "    \n",
      "        .. versionchanged:: 1.2\n",
      "    \n",
      "           ``TextFileReader`` is a context manager.\n",
      "    chunksize : int, optional\n",
      "        Return TextFileReader object for iteration.\n",
      "        See the `IO Tools docs\n",
      "        <https://pandas.pydata.org/pandas-docs/stable/io.html#io-chunking>`_\n",
      "        for more information on ``iterator`` and ``chunksize``.\n",
      "    \n",
      "        .. versionchanged:: 1.2\n",
      "    \n",
      "           ``TextFileReader`` is a context manager.\n",
      "    compression : {'infer', 'gzip', 'bz2', 'zip', 'xz', None}, default 'infer'\n",
      "        For on-the-fly decompression of on-disk data. If 'infer' and\n",
      "        `filepath_or_buffer` is path-like, then detect compression from the\n",
      "        following extensions: '.gz', '.bz2', '.zip', or '.xz' (otherwise no\n",
      "        decompression). If using 'zip', the ZIP file must contain only one data\n",
      "        file to be read in. Set to None for no decompression.\n",
      "    thousands : str, optional\n",
      "        Thousands separator.\n",
      "    decimal : str, default '.'\n",
      "        Character to recognize as decimal point (e.g. use ',' for European data).\n",
      "    lineterminator : str (length 1), optional\n",
      "        Character to break file into lines. Only valid with C parser.\n",
      "    quotechar : str (length 1), optional\n",
      "        The character used to denote the start and end of a quoted item. Quoted\n",
      "        items can include the delimiter and it will be ignored.\n",
      "    quoting : int or csv.QUOTE_* instance, default 0\n",
      "        Control field quoting behavior per ``csv.QUOTE_*`` constants. Use one of\n",
      "        QUOTE_MINIMAL (0), QUOTE_ALL (1), QUOTE_NONNUMERIC (2) or QUOTE_NONE (3).\n",
      "    doublequote : bool, default ``True``\n",
      "       When quotechar is specified and quoting is not ``QUOTE_NONE``, indicate\n",
      "       whether or not to interpret two consecutive quotechar elements INSIDE a\n",
      "       field as a single ``quotechar`` element.\n",
      "    escapechar : str (length 1), optional\n",
      "        One-character string used to escape other characters.\n",
      "    comment : str, optional\n",
      "        Indicates remainder of line should not be parsed. If found at the beginning\n",
      "        of a line, the line will be ignored altogether. This parameter must be a\n",
      "        single character. Like empty lines (as long as ``skip_blank_lines=True``),\n",
      "        fully commented lines are ignored by the parameter `header` but not by\n",
      "        `skiprows`. For example, if ``comment='#'``, parsing\n",
      "        ``#empty\\na,b,c\\n1,2,3`` with ``header=0`` will result in 'a,b,c' being\n",
      "        treated as the header.\n",
      "    encoding : str, optional\n",
      "        Encoding to use for UTF when reading/writing (ex. 'utf-8'). `List of Python\n",
      "        standard encodings\n",
      "        <https://docs.python.org/3/library/codecs.html#standard-encodings>`_ .\n",
      "    \n",
      "        .. versionchanged:: 1.2\n",
      "    \n",
      "           When ``encoding`` is ``None``, ``errors=\"replace\"`` is passed to\n",
      "           ``open()``. Otherwise, ``errors=\"strict\"`` is passed to ``open()``.\n",
      "           This behavior was previously only the case for ``engine=\"python\"``.\n",
      "    \n",
      "        .. versionchanged:: 1.3.0\n",
      "    \n",
      "           ``encoding_errors`` is a new argument. ``encoding`` has no longer an\n",
      "           influence on how encoding errors are handled.\n",
      "    \n",
      "    encoding_errors : str, optional, default \"strict\"\n",
      "        How encoding errors are treated. `List of possible values\n",
      "        <https://docs.python.org/3/library/codecs.html#error-handlers>`_ .\n",
      "    \n",
      "        .. versionadded:: 1.3.0\n",
      "    \n",
      "    dialect : str or csv.Dialect, optional\n",
      "        If provided, this parameter will override values (default or not) for the\n",
      "        following parameters: `delimiter`, `doublequote`, `escapechar`,\n",
      "        `skipinitialspace`, `quotechar`, and `quoting`. If it is necessary to\n",
      "        override values, a ParserWarning will be issued. See csv.Dialect\n",
      "        documentation for more details.\n",
      "    error_bad_lines : bool, default ``None``\n",
      "        Lines with too many fields (e.g. a csv line with too many commas) will by\n",
      "        default cause an exception to be raised, and no DataFrame will be returned.\n",
      "        If False, then these \"bad lines\" will be dropped from the DataFrame that is\n",
      "        returned.\n",
      "    \n",
      "        .. deprecated:: 1.3.0\n",
      "           The ``on_bad_lines`` parameter should be used instead to specify behavior upon\n",
      "           encountering a bad line instead.\n",
      "    warn_bad_lines : bool, default ``None``\n",
      "        If error_bad_lines is False, and warn_bad_lines is True, a warning for each\n",
      "        \"bad line\" will be output.\n",
      "    \n",
      "        .. deprecated:: 1.3.0\n",
      "           The ``on_bad_lines`` parameter should be used instead to specify behavior upon\n",
      "           encountering a bad line instead.\n",
      "    on_bad_lines : {'error', 'warn', 'skip'}, default 'error'\n",
      "        Specifies what to do upon encountering a bad line (a line with too many fields).\n",
      "        Allowed values are :\n",
      "    \n",
      "            - 'error', raise an Exception when a bad line is encountered.\n",
      "            - 'warn', raise a warning when a bad line is encountered and skip that line.\n",
      "            - 'skip', skip bad lines without raising or warning when they are encountered.\n",
      "    \n",
      "        .. versionadded:: 1.3.0\n",
      "    \n",
      "    delim_whitespace : bool, default False\n",
      "        Specifies whether or not whitespace (e.g. ``' '`` or ``'    '``) will be\n",
      "        used as the sep. Equivalent to setting ``sep='\\s+'``. If this option\n",
      "        is set to True, nothing should be passed in for the ``delimiter``\n",
      "        parameter.\n",
      "    low_memory : bool, default True\n",
      "        Internally process the file in chunks, resulting in lower memory use\n",
      "        while parsing, but possibly mixed type inference.  To ensure no mixed\n",
      "        types either set False, or specify the type with the `dtype` parameter.\n",
      "        Note that the entire file is read into a single DataFrame regardless,\n",
      "        use the `chunksize` or `iterator` parameter to return the data in chunks.\n",
      "        (Only valid with C parser).\n",
      "    memory_map : bool, default False\n",
      "        If a filepath is provided for `filepath_or_buffer`, map the file object\n",
      "        directly onto memory and access the data directly from there. Using this\n",
      "        option can improve performance because there is no longer any I/O overhead.\n",
      "    float_precision : str, optional\n",
      "        Specifies which converter the C engine should use for floating-point\n",
      "        values. The options are ``None`` or 'high' for the ordinary converter,\n",
      "        'legacy' for the original lower precision pandas converter, and\n",
      "        'round_trip' for the round-trip converter.\n",
      "    \n",
      "        .. versionchanged:: 1.2\n",
      "    \n",
      "    storage_options : dict, optional\n",
      "        Extra options that make sense for a particular storage connection, e.g.\n",
      "        host, port, username, password, etc. For HTTP(S) URLs the key-value pairs\n",
      "        are forwarded to ``urllib`` as header options. For other URLs (e.g.\n",
      "        starting with \"s3://\", and \"gcs://\") the key-value pairs are forwarded to\n",
      "        ``fsspec``. Please see ``fsspec`` and ``urllib`` for more details.\n",
      "    \n",
      "        .. versionadded:: 1.2\n",
      "    \n",
      "    Returns\n",
      "    -------\n",
      "    DataFrame or TextParser\n",
      "        A comma-separated values (csv) file is returned as two-dimensional\n",
      "        data structure with labeled axes.\n",
      "    \n",
      "    See Also\n",
      "    --------\n",
      "    DataFrame.to_csv : Write DataFrame to a comma-separated values (csv) file.\n",
      "    read_csv : Read a comma-separated values (csv) file into DataFrame.\n",
      "    read_fwf : Read a table of fixed-width formatted lines into DataFrame.\n",
      "    \n",
      "    Examples\n",
      "    --------\n",
      "    >>> pd.read_csv('data.csv')  # doctest: +SKIP\n",
      "\n"
     ]
    }
   ],
   "source": [
    "help(pd.read_csv)"
   ]
  },
  {
   "cell_type": "code",
   "execution_count": 3,
   "id": "4f5e3fe9",
   "metadata": {},
   "outputs": [],
   "source": [
    "data = pd.read_csv(\"demo_data_BMKG_Mamuju.csv\")"
   ]
  },
  {
   "cell_type": "code",
   "execution_count": 4,
   "id": "bc3db073",
   "metadata": {},
   "outputs": [
    {
     "data": {
      "text/html": [
       "<div>\n",
       "<style scoped>\n",
       "    .dataframe tbody tr th:only-of-type {\n",
       "        vertical-align: middle;\n",
       "    }\n",
       "\n",
       "    .dataframe tbody tr th {\n",
       "        vertical-align: top;\n",
       "    }\n",
       "\n",
       "    .dataframe thead th {\n",
       "        text-align: right;\n",
       "    }\n",
       "</style>\n",
       "<table border=\"1\" class=\"dataframe\">\n",
       "  <thead>\n",
       "    <tr style=\"text-align: right;\">\n",
       "      <th></th>\n",
       "      <th>time</th>\n",
       "      <th>latitude</th>\n",
       "      <th>longitude</th>\n",
       "      <th>depth</th>\n",
       "      <th>magnitude</th>\n",
       "    </tr>\n",
       "  </thead>\n",
       "  <tbody>\n",
       "    <tr>\n",
       "      <th>0</th>\n",
       "      <td>2021-01-27T18:43:24.965Z</td>\n",
       "      <td>-2.97</td>\n",
       "      <td>118.83</td>\n",
       "      <td>11</td>\n",
       "      <td>3.7</td>\n",
       "    </tr>\n",
       "    <tr>\n",
       "      <th>1</th>\n",
       "      <td>2021-01-25T16:04:16.363Z</td>\n",
       "      <td>-3.01</td>\n",
       "      <td>118.80</td>\n",
       "      <td>47</td>\n",
       "      <td>2.8</td>\n",
       "    </tr>\n",
       "    <tr>\n",
       "      <th>2</th>\n",
       "      <td>2021-01-24T20:52:08.070Z</td>\n",
       "      <td>-2.94</td>\n",
       "      <td>118.61</td>\n",
       "      <td>10</td>\n",
       "      <td>2.6</td>\n",
       "    </tr>\n",
       "    <tr>\n",
       "      <th>3</th>\n",
       "      <td>2021-01-24T16:52:55.221Z</td>\n",
       "      <td>-3.00</td>\n",
       "      <td>118.80</td>\n",
       "      <td>35</td>\n",
       "      <td>2.4</td>\n",
       "    </tr>\n",
       "    <tr>\n",
       "      <th>4</th>\n",
       "      <td>2021-01-24T02:38:50.171Z</td>\n",
       "      <td>-2.95</td>\n",
       "      <td>118.88</td>\n",
       "      <td>14</td>\n",
       "      <td>3.1</td>\n",
       "    </tr>\n",
       "  </tbody>\n",
       "</table>\n",
       "</div>"
      ],
      "text/plain": [
       "                       time  latitude  longitude  depth  magnitude\n",
       "0  2021-01-27T18:43:24.965Z     -2.97     118.83     11        3.7\n",
       "1  2021-01-25T16:04:16.363Z     -3.01     118.80     47        2.8\n",
       "2  2021-01-24T20:52:08.070Z     -2.94     118.61     10        2.6\n",
       "3  2021-01-24T16:52:55.221Z     -3.00     118.80     35        2.4\n",
       "4  2021-01-24T02:38:50.171Z     -2.95     118.88     14        3.1"
      ]
     },
     "execution_count": 4,
     "metadata": {},
     "output_type": "execute_result"
    }
   ],
   "source": [
    "data.head()"
   ]
  },
  {
   "cell_type": "code",
   "execution_count": 5,
   "id": "f044acbb",
   "metadata": {},
   "outputs": [
    {
     "ename": "FileNotFoundError",
     "evalue": "[Errno 2] No such file or directory: './demo_data_BMKG_MamujuEQ.csv'",
     "output_type": "error",
     "traceback": [
      "\u001b[1;31m---------------------------------------------------------------------------\u001b[0m",
      "\u001b[1;31mFileNotFoundError\u001b[0m                         Traceback (most recent call last)",
      "\u001b[1;32m~\\AppData\\Local\\Temp/ipykernel_16184/1170650061.py\u001b[0m in \u001b[0;36m<module>\u001b[1;34m\u001b[0m\n\u001b[1;32m----> 1\u001b[1;33m \u001b[0mdata_salah\u001b[0m \u001b[1;33m=\u001b[0m \u001b[0mpd\u001b[0m\u001b[1;33m.\u001b[0m\u001b[0mread_csv\u001b[0m\u001b[1;33m(\u001b[0m\u001b[1;34m\"./demo_data_BMKG_MamujuEQ.csv\"\u001b[0m\u001b[1;33m,\u001b[0m \u001b[0mdelimiter\u001b[0m\u001b[1;33m=\u001b[0m\u001b[1;34m\".\"\u001b[0m\u001b[1;33m)\u001b[0m\u001b[1;33m\u001b[0m\u001b[1;33m\u001b[0m\u001b[0m\n\u001b[0m\u001b[0;32m      2\u001b[0m \u001b[0mdata_salah\u001b[0m\u001b[1;33m.\u001b[0m\u001b[0mhead\u001b[0m\u001b[1;33m(\u001b[0m\u001b[1;33m)\u001b[0m\u001b[1;33m\u001b[0m\u001b[1;33m\u001b[0m\u001b[0m\n",
      "\u001b[1;32m~\\miniconda3\\lib\\site-packages\\pandas\\util\\_decorators.py\u001b[0m in \u001b[0;36mwrapper\u001b[1;34m(*args, **kwargs)\u001b[0m\n\u001b[0;32m    309\u001b[0m                     \u001b[0mstacklevel\u001b[0m\u001b[1;33m=\u001b[0m\u001b[0mstacklevel\u001b[0m\u001b[1;33m,\u001b[0m\u001b[1;33m\u001b[0m\u001b[1;33m\u001b[0m\u001b[0m\n\u001b[0;32m    310\u001b[0m                 )\n\u001b[1;32m--> 311\u001b[1;33m             \u001b[1;32mreturn\u001b[0m \u001b[0mfunc\u001b[0m\u001b[1;33m(\u001b[0m\u001b[1;33m*\u001b[0m\u001b[0margs\u001b[0m\u001b[1;33m,\u001b[0m \u001b[1;33m**\u001b[0m\u001b[0mkwargs\u001b[0m\u001b[1;33m)\u001b[0m\u001b[1;33m\u001b[0m\u001b[1;33m\u001b[0m\u001b[0m\n\u001b[0m\u001b[0;32m    312\u001b[0m \u001b[1;33m\u001b[0m\u001b[0m\n\u001b[0;32m    313\u001b[0m         \u001b[1;32mreturn\u001b[0m \u001b[0mwrapper\u001b[0m\u001b[1;33m\u001b[0m\u001b[1;33m\u001b[0m\u001b[0m\n",
      "\u001b[1;32m~\\miniconda3\\lib\\site-packages\\pandas\\io\\parsers\\readers.py\u001b[0m in \u001b[0;36mread_csv\u001b[1;34m(filepath_or_buffer, sep, delimiter, header, names, index_col, usecols, squeeze, prefix, mangle_dupe_cols, dtype, engine, converters, true_values, false_values, skipinitialspace, skiprows, skipfooter, nrows, na_values, keep_default_na, na_filter, verbose, skip_blank_lines, parse_dates, infer_datetime_format, keep_date_col, date_parser, dayfirst, cache_dates, iterator, chunksize, compression, thousands, decimal, lineterminator, quotechar, quoting, doublequote, escapechar, comment, encoding, encoding_errors, dialect, error_bad_lines, warn_bad_lines, on_bad_lines, delim_whitespace, low_memory, memory_map, float_precision, storage_options)\u001b[0m\n\u001b[0;32m    584\u001b[0m     \u001b[0mkwds\u001b[0m\u001b[1;33m.\u001b[0m\u001b[0mupdate\u001b[0m\u001b[1;33m(\u001b[0m\u001b[0mkwds_defaults\u001b[0m\u001b[1;33m)\u001b[0m\u001b[1;33m\u001b[0m\u001b[1;33m\u001b[0m\u001b[0m\n\u001b[0;32m    585\u001b[0m \u001b[1;33m\u001b[0m\u001b[0m\n\u001b[1;32m--> 586\u001b[1;33m     \u001b[1;32mreturn\u001b[0m \u001b[0m_read\u001b[0m\u001b[1;33m(\u001b[0m\u001b[0mfilepath_or_buffer\u001b[0m\u001b[1;33m,\u001b[0m \u001b[0mkwds\u001b[0m\u001b[1;33m)\u001b[0m\u001b[1;33m\u001b[0m\u001b[1;33m\u001b[0m\u001b[0m\n\u001b[0m\u001b[0;32m    587\u001b[0m \u001b[1;33m\u001b[0m\u001b[0m\n\u001b[0;32m    588\u001b[0m \u001b[1;33m\u001b[0m\u001b[0m\n",
      "\u001b[1;32m~\\miniconda3\\lib\\site-packages\\pandas\\io\\parsers\\readers.py\u001b[0m in \u001b[0;36m_read\u001b[1;34m(filepath_or_buffer, kwds)\u001b[0m\n\u001b[0;32m    480\u001b[0m \u001b[1;33m\u001b[0m\u001b[0m\n\u001b[0;32m    481\u001b[0m     \u001b[1;31m# Create the parser.\u001b[0m\u001b[1;33m\u001b[0m\u001b[1;33m\u001b[0m\u001b[1;33m\u001b[0m\u001b[0m\n\u001b[1;32m--> 482\u001b[1;33m     \u001b[0mparser\u001b[0m \u001b[1;33m=\u001b[0m \u001b[0mTextFileReader\u001b[0m\u001b[1;33m(\u001b[0m\u001b[0mfilepath_or_buffer\u001b[0m\u001b[1;33m,\u001b[0m \u001b[1;33m**\u001b[0m\u001b[0mkwds\u001b[0m\u001b[1;33m)\u001b[0m\u001b[1;33m\u001b[0m\u001b[1;33m\u001b[0m\u001b[0m\n\u001b[0m\u001b[0;32m    483\u001b[0m \u001b[1;33m\u001b[0m\u001b[0m\n\u001b[0;32m    484\u001b[0m     \u001b[1;32mif\u001b[0m \u001b[0mchunksize\u001b[0m \u001b[1;32mor\u001b[0m \u001b[0miterator\u001b[0m\u001b[1;33m:\u001b[0m\u001b[1;33m\u001b[0m\u001b[1;33m\u001b[0m\u001b[0m\n",
      "\u001b[1;32m~\\miniconda3\\lib\\site-packages\\pandas\\io\\parsers\\readers.py\u001b[0m in \u001b[0;36m__init__\u001b[1;34m(self, f, engine, **kwds)\u001b[0m\n\u001b[0;32m    809\u001b[0m             \u001b[0mself\u001b[0m\u001b[1;33m.\u001b[0m\u001b[0moptions\u001b[0m\u001b[1;33m[\u001b[0m\u001b[1;34m\"has_index_names\"\u001b[0m\u001b[1;33m]\u001b[0m \u001b[1;33m=\u001b[0m \u001b[0mkwds\u001b[0m\u001b[1;33m[\u001b[0m\u001b[1;34m\"has_index_names\"\u001b[0m\u001b[1;33m]\u001b[0m\u001b[1;33m\u001b[0m\u001b[1;33m\u001b[0m\u001b[0m\n\u001b[0;32m    810\u001b[0m \u001b[1;33m\u001b[0m\u001b[0m\n\u001b[1;32m--> 811\u001b[1;33m         \u001b[0mself\u001b[0m\u001b[1;33m.\u001b[0m\u001b[0m_engine\u001b[0m \u001b[1;33m=\u001b[0m \u001b[0mself\u001b[0m\u001b[1;33m.\u001b[0m\u001b[0m_make_engine\u001b[0m\u001b[1;33m(\u001b[0m\u001b[0mself\u001b[0m\u001b[1;33m.\u001b[0m\u001b[0mengine\u001b[0m\u001b[1;33m)\u001b[0m\u001b[1;33m\u001b[0m\u001b[1;33m\u001b[0m\u001b[0m\n\u001b[0m\u001b[0;32m    812\u001b[0m \u001b[1;33m\u001b[0m\u001b[0m\n\u001b[0;32m    813\u001b[0m     \u001b[1;32mdef\u001b[0m \u001b[0mclose\u001b[0m\u001b[1;33m(\u001b[0m\u001b[0mself\u001b[0m\u001b[1;33m)\u001b[0m\u001b[1;33m:\u001b[0m\u001b[1;33m\u001b[0m\u001b[1;33m\u001b[0m\u001b[0m\n",
      "\u001b[1;32m~\\miniconda3\\lib\\site-packages\\pandas\\io\\parsers\\readers.py\u001b[0m in \u001b[0;36m_make_engine\u001b[1;34m(self, engine)\u001b[0m\n\u001b[0;32m   1038\u001b[0m             )\n\u001b[0;32m   1039\u001b[0m         \u001b[1;31m# error: Too many arguments for \"ParserBase\"\u001b[0m\u001b[1;33m\u001b[0m\u001b[1;33m\u001b[0m\u001b[1;33m\u001b[0m\u001b[0m\n\u001b[1;32m-> 1040\u001b[1;33m         \u001b[1;32mreturn\u001b[0m \u001b[0mmapping\u001b[0m\u001b[1;33m[\u001b[0m\u001b[0mengine\u001b[0m\u001b[1;33m]\u001b[0m\u001b[1;33m(\u001b[0m\u001b[0mself\u001b[0m\u001b[1;33m.\u001b[0m\u001b[0mf\u001b[0m\u001b[1;33m,\u001b[0m \u001b[1;33m**\u001b[0m\u001b[0mself\u001b[0m\u001b[1;33m.\u001b[0m\u001b[0moptions\u001b[0m\u001b[1;33m)\u001b[0m  \u001b[1;31m# type: ignore[call-arg]\u001b[0m\u001b[1;33m\u001b[0m\u001b[1;33m\u001b[0m\u001b[0m\n\u001b[0m\u001b[0;32m   1041\u001b[0m \u001b[1;33m\u001b[0m\u001b[0m\n\u001b[0;32m   1042\u001b[0m     \u001b[1;32mdef\u001b[0m \u001b[0m_failover_to_python\u001b[0m\u001b[1;33m(\u001b[0m\u001b[0mself\u001b[0m\u001b[1;33m)\u001b[0m\u001b[1;33m:\u001b[0m\u001b[1;33m\u001b[0m\u001b[1;33m\u001b[0m\u001b[0m\n",
      "\u001b[1;32m~\\miniconda3\\lib\\site-packages\\pandas\\io\\parsers\\c_parser_wrapper.py\u001b[0m in \u001b[0;36m__init__\u001b[1;34m(self, src, **kwds)\u001b[0m\n\u001b[0;32m     49\u001b[0m \u001b[1;33m\u001b[0m\u001b[0m\n\u001b[0;32m     50\u001b[0m         \u001b[1;31m# open handles\u001b[0m\u001b[1;33m\u001b[0m\u001b[1;33m\u001b[0m\u001b[1;33m\u001b[0m\u001b[0m\n\u001b[1;32m---> 51\u001b[1;33m         \u001b[0mself\u001b[0m\u001b[1;33m.\u001b[0m\u001b[0m_open_handles\u001b[0m\u001b[1;33m(\u001b[0m\u001b[0msrc\u001b[0m\u001b[1;33m,\u001b[0m \u001b[0mkwds\u001b[0m\u001b[1;33m)\u001b[0m\u001b[1;33m\u001b[0m\u001b[1;33m\u001b[0m\u001b[0m\n\u001b[0m\u001b[0;32m     52\u001b[0m         \u001b[1;32massert\u001b[0m \u001b[0mself\u001b[0m\u001b[1;33m.\u001b[0m\u001b[0mhandles\u001b[0m \u001b[1;32mis\u001b[0m \u001b[1;32mnot\u001b[0m \u001b[1;32mNone\u001b[0m\u001b[1;33m\u001b[0m\u001b[1;33m\u001b[0m\u001b[0m\n\u001b[0;32m     53\u001b[0m \u001b[1;33m\u001b[0m\u001b[0m\n",
      "\u001b[1;32m~\\miniconda3\\lib\\site-packages\\pandas\\io\\parsers\\base_parser.py\u001b[0m in \u001b[0;36m_open_handles\u001b[1;34m(self, src, kwds)\u001b[0m\n\u001b[0;32m    220\u001b[0m         \u001b[0mLet\u001b[0m \u001b[0mthe\u001b[0m \u001b[0mreaders\u001b[0m \u001b[0mopen\u001b[0m \u001b[0mIOHandles\u001b[0m \u001b[0mafter\u001b[0m \u001b[0mthey\u001b[0m \u001b[0mare\u001b[0m \u001b[0mdone\u001b[0m \u001b[1;32mwith\u001b[0m \u001b[0mtheir\u001b[0m \u001b[0mpotential\u001b[0m \u001b[0mraises\u001b[0m\u001b[1;33m.\u001b[0m\u001b[1;33m\u001b[0m\u001b[1;33m\u001b[0m\u001b[0m\n\u001b[0;32m    221\u001b[0m         \"\"\"\n\u001b[1;32m--> 222\u001b[1;33m         self.handles = get_handle(\n\u001b[0m\u001b[0;32m    223\u001b[0m             \u001b[0msrc\u001b[0m\u001b[1;33m,\u001b[0m\u001b[1;33m\u001b[0m\u001b[1;33m\u001b[0m\u001b[0m\n\u001b[0;32m    224\u001b[0m             \u001b[1;34m\"r\"\u001b[0m\u001b[1;33m,\u001b[0m\u001b[1;33m\u001b[0m\u001b[1;33m\u001b[0m\u001b[0m\n",
      "\u001b[1;32m~\\miniconda3\\lib\\site-packages\\pandas\\io\\common.py\u001b[0m in \u001b[0;36mget_handle\u001b[1;34m(path_or_buf, mode, encoding, compression, memory_map, is_text, errors, storage_options)\u001b[0m\n\u001b[0;32m    700\u001b[0m         \u001b[1;32mif\u001b[0m \u001b[0mioargs\u001b[0m\u001b[1;33m.\u001b[0m\u001b[0mencoding\u001b[0m \u001b[1;32mand\u001b[0m \u001b[1;34m\"b\"\u001b[0m \u001b[1;32mnot\u001b[0m \u001b[1;32min\u001b[0m \u001b[0mioargs\u001b[0m\u001b[1;33m.\u001b[0m\u001b[0mmode\u001b[0m\u001b[1;33m:\u001b[0m\u001b[1;33m\u001b[0m\u001b[1;33m\u001b[0m\u001b[0m\n\u001b[0;32m    701\u001b[0m             \u001b[1;31m# Encoding\u001b[0m\u001b[1;33m\u001b[0m\u001b[1;33m\u001b[0m\u001b[1;33m\u001b[0m\u001b[0m\n\u001b[1;32m--> 702\u001b[1;33m             handle = open(\n\u001b[0m\u001b[0;32m    703\u001b[0m                 \u001b[0mhandle\u001b[0m\u001b[1;33m,\u001b[0m\u001b[1;33m\u001b[0m\u001b[1;33m\u001b[0m\u001b[0m\n\u001b[0;32m    704\u001b[0m                 \u001b[0mioargs\u001b[0m\u001b[1;33m.\u001b[0m\u001b[0mmode\u001b[0m\u001b[1;33m,\u001b[0m\u001b[1;33m\u001b[0m\u001b[1;33m\u001b[0m\u001b[0m\n",
      "\u001b[1;31mFileNotFoundError\u001b[0m: [Errno 2] No such file or directory: './demo_data_BMKG_MamujuEQ.csv'"
     ]
    }
   ],
   "source": [
    "data_salah = pd.read_csv(\"./demo_data_BMKG_MamujuEQ.csv\", delimiter=\".\")\n",
    "data_salah.head()"
   ]
  },
  {
   "cell_type": "code",
   "execution_count": 6,
   "id": "daa71b7c",
   "metadata": {},
   "outputs": [
    {
     "ename": "AttributeError",
     "evalue": "'Series' object has no attribute 'dtpye'",
     "output_type": "error",
     "traceback": [
      "\u001b[1;31m---------------------------------------------------------------------------\u001b[0m",
      "\u001b[1;31mAttributeError\u001b[0m                            Traceback (most recent call last)",
      "\u001b[1;32m~\\AppData\\Local\\Temp/ipykernel_16184/455690531.py\u001b[0m in \u001b[0;36m<module>\u001b[1;34m\u001b[0m\n\u001b[1;32m----> 1\u001b[1;33m \u001b[0mdata\u001b[0m\u001b[1;33m[\u001b[0m\u001b[1;34m'longitude'\u001b[0m\u001b[1;33m]\u001b[0m\u001b[1;33m.\u001b[0m\u001b[0mdtpye\u001b[0m\u001b[1;33m\u001b[0m\u001b[1;33m\u001b[0m\u001b[0m\n\u001b[0m",
      "\u001b[1;32m~\\miniconda3\\lib\\site-packages\\pandas\\core\\generic.py\u001b[0m in \u001b[0;36m__getattr__\u001b[1;34m(self, name)\u001b[0m\n\u001b[0;32m   5485\u001b[0m         ):\n\u001b[0;32m   5486\u001b[0m             \u001b[1;32mreturn\u001b[0m \u001b[0mself\u001b[0m\u001b[1;33m[\u001b[0m\u001b[0mname\u001b[0m\u001b[1;33m]\u001b[0m\u001b[1;33m\u001b[0m\u001b[1;33m\u001b[0m\u001b[0m\n\u001b[1;32m-> 5487\u001b[1;33m         \u001b[1;32mreturn\u001b[0m \u001b[0mobject\u001b[0m\u001b[1;33m.\u001b[0m\u001b[0m__getattribute__\u001b[0m\u001b[1;33m(\u001b[0m\u001b[0mself\u001b[0m\u001b[1;33m,\u001b[0m \u001b[0mname\u001b[0m\u001b[1;33m)\u001b[0m\u001b[1;33m\u001b[0m\u001b[1;33m\u001b[0m\u001b[0m\n\u001b[0m\u001b[0;32m   5488\u001b[0m \u001b[1;33m\u001b[0m\u001b[0m\n\u001b[0;32m   5489\u001b[0m     \u001b[1;32mdef\u001b[0m \u001b[0m__setattr__\u001b[0m\u001b[1;33m(\u001b[0m\u001b[0mself\u001b[0m\u001b[1;33m,\u001b[0m \u001b[0mname\u001b[0m\u001b[1;33m:\u001b[0m \u001b[0mstr\u001b[0m\u001b[1;33m,\u001b[0m \u001b[0mvalue\u001b[0m\u001b[1;33m)\u001b[0m \u001b[1;33m->\u001b[0m \u001b[1;32mNone\u001b[0m\u001b[1;33m:\u001b[0m\u001b[1;33m\u001b[0m\u001b[1;33m\u001b[0m\u001b[0m\n",
      "\u001b[1;31mAttributeError\u001b[0m: 'Series' object has no attribute 'dtpye'"
     ]
    }
   ],
   "source": [
    "data['longitude'].dtpye"
   ]
  },
  {
   "cell_type": "code",
   "execution_count": 7,
   "id": "375fd690",
   "metadata": {},
   "outputs": [
    {
     "data": {
      "text/plain": [
       "dtype('float64')"
      ]
     },
     "execution_count": 7,
     "metadata": {},
     "output_type": "execute_result"
    }
   ],
   "source": [
    "data['longitude'].dtype"
   ]
  },
  {
   "cell_type": "code",
   "execution_count": 8,
   "id": "c386a038",
   "metadata": {},
   "outputs": [
    {
     "data": {
      "text/plain": [
       "0     118.83\n",
       "1     118.80\n",
       "2     118.61\n",
       "3     118.80\n",
       "4     118.88\n",
       "5     118.91\n",
       "6     118.86\n",
       "7     119.50\n",
       "8     118.88\n",
       "9     118.88\n",
       "10    118.91\n",
       "11    119.03\n",
       "12    118.94\n",
       "13    118.94\n",
       "14    118.84\n",
       "15    118.86\n",
       "16    118.92\n",
       "17    118.95\n",
       "18    118.92\n",
       "19    118.88\n",
       "20    118.93\n",
       "21    118.84\n",
       "22    118.85\n",
       "23    118.91\n",
       "24    119.01\n",
       "25    118.94\n",
       "26    118.93\n",
       "27    118.93\n",
       "28    118.91\n",
       "29    118.94\n",
       "30    118.89\n",
       "31    118.88\n",
       "32    118.95\n",
       "33    118.94\n",
       "34    118.90\n",
       "35    118.90\n",
       "36    118.88\n",
       "37    118.88\n",
       "38    118.93\n",
       "39    118.89\n",
       "40    118.92\n",
       "41    119.48\n",
       "Name: longitude, dtype: float64"
      ]
     },
     "execution_count": 8,
     "metadata": {},
     "output_type": "execute_result"
    }
   ],
   "source": [
    "data['longitude']"
   ]
  },
  {
   "cell_type": "code",
   "execution_count": 9,
   "id": "50a249c2",
   "metadata": {},
   "outputs": [
    {
     "data": {
      "text/plain": [
       "dtype('int64')"
      ]
     },
     "execution_count": 9,
     "metadata": {},
     "output_type": "execute_result"
    }
   ],
   "source": [
    "data['depth'].dtype"
   ]
  },
  {
   "cell_type": "code",
   "execution_count": 10,
   "id": "ee730385",
   "metadata": {},
   "outputs": [
    {
     "data": {
      "text/plain": [
       "dtype('O')"
      ]
     },
     "execution_count": 10,
     "metadata": {},
     "output_type": "execute_result"
    }
   ],
   "source": [
    "data['time'].dtype"
   ]
  },
  {
   "cell_type": "code",
   "execution_count": 11,
   "id": "76b21fec",
   "metadata": {},
   "outputs": [],
   "source": [
    "longitude = list (data['longitude'])"
   ]
  },
  {
   "cell_type": "code",
   "execution_count": 12,
   "id": "fe0d7075",
   "metadata": {},
   "outputs": [
    {
     "data": {
      "text/plain": [
       "[118.83,\n",
       " 118.8,\n",
       " 118.61,\n",
       " 118.8,\n",
       " 118.88,\n",
       " 118.91,\n",
       " 118.86,\n",
       " 119.5,\n",
       " 118.88,\n",
       " 118.88,\n",
       " 118.91,\n",
       " 119.03,\n",
       " 118.94,\n",
       " 118.94,\n",
       " 118.84,\n",
       " 118.86,\n",
       " 118.92,\n",
       " 118.95,\n",
       " 118.92,\n",
       " 118.88,\n",
       " 118.93,\n",
       " 118.84,\n",
       " 118.85,\n",
       " 118.91,\n",
       " 119.01,\n",
       " 118.94,\n",
       " 118.93,\n",
       " 118.93,\n",
       " 118.91,\n",
       " 118.94,\n",
       " 118.89,\n",
       " 118.88,\n",
       " 118.95,\n",
       " 118.94,\n",
       " 118.9,\n",
       " 118.9,\n",
       " 118.88,\n",
       " 118.88,\n",
       " 118.93,\n",
       " 118.89,\n",
       " 118.92,\n",
       " 119.48]"
      ]
     },
     "execution_count": 12,
     "metadata": {},
     "output_type": "execute_result"
    }
   ],
   "source": [
    "longitude = list (data['longitude'])\n",
    "longitude"
   ]
  },
  {
   "cell_type": "code",
   "execution_count": 13,
   "id": "43f7427e",
   "metadata": {},
   "outputs": [
    {
     "data": {
      "text/plain": [
       "42"
      ]
     },
     "execution_count": 13,
     "metadata": {},
     "output_type": "execute_result"
    }
   ],
   "source": [
    "len(longitude)"
   ]
  },
  {
   "cell_type": "code",
   "execution_count": 14,
   "id": "4047c983",
   "metadata": {},
   "outputs": [
    {
     "data": {
      "text/plain": [
       "118.83"
      ]
     },
     "execution_count": 14,
     "metadata": {},
     "output_type": "execute_result"
    }
   ],
   "source": [
    "longitude[0]"
   ]
  },
  {
   "cell_type": "code",
   "execution_count": 15,
   "id": "8fd0730c",
   "metadata": {},
   "outputs": [
    {
     "data": {
      "text/plain": [
       "119.48"
      ]
     },
     "execution_count": 15,
     "metadata": {},
     "output_type": "execute_result"
    }
   ],
   "source": [
    "longitude[41]"
   ]
  },
  {
   "cell_type": "code",
   "execution_count": 16,
   "id": "be964810",
   "metadata": {},
   "outputs": [
    {
     "data": {
      "text/plain": [
       "119.48"
      ]
     },
     "execution_count": 16,
     "metadata": {},
     "output_type": "execute_result"
    }
   ],
   "source": [
    "longitude[-1]"
   ]
  },
  {
   "cell_type": "code",
   "execution_count": 17,
   "id": "19f334d4",
   "metadata": {},
   "outputs": [
    {
     "data": {
      "text/plain": [
       "True"
      ]
     },
     "execution_count": 17,
     "metadata": {},
     "output_type": "execute_result"
    }
   ],
   "source": [
    "longitude[41]==longitude[-1]"
   ]
  },
  {
   "cell_type": "code",
   "execution_count": 18,
   "id": "db8241ba",
   "metadata": {},
   "outputs": [
    {
     "data": {
      "text/plain": [
       "[118.83, 118.8, 118.61, 118.8]"
      ]
     },
     "execution_count": 18,
     "metadata": {},
     "output_type": "execute_result"
    }
   ],
   "source": [
    "longitude_empat_awal =longitude [0:4]\n",
    "longitude_empat_awal"
   ]
  },
  {
   "cell_type": "code",
   "execution_count": 19,
   "id": "7ff1e1a0",
   "metadata": {},
   "outputs": [],
   "source": [
    "daftar_peserta =[\"Budi\",\"Joni\" , \"Puteri\", \"Indah\", \"Ade\", \"Rahma\"]"
   ]
  },
  {
   "cell_type": "code",
   "execution_count": 20,
   "id": "f1416892",
   "metadata": {},
   "outputs": [
    {
     "data": {
      "text/plain": [
       "['Budi', 'Joni', 'Puteri', 'Indah', 'Ade', 'Rahma', 'Ari']"
      ]
     },
     "execution_count": 20,
     "metadata": {},
     "output_type": "execute_result"
    }
   ],
   "source": [
    "daftar_peserta.append(\"Ari\")\n",
    "daftar_peserta"
   ]
  },
  {
   "cell_type": "code",
   "execution_count": 21,
   "id": "5da349f9",
   "metadata": {},
   "outputs": [
    {
     "data": {
      "text/plain": [
       "['Dina', 'Budi', 'Joni', 'Puteri', 'Indah', 'Ade', 'Rahma', 'Ari']"
      ]
     },
     "execution_count": 21,
     "metadata": {},
     "output_type": "execute_result"
    }
   ],
   "source": [
    "daftar_peserta.insert(0,\"Dina\")\n",
    "daftar_peserta"
   ]
  },
  {
   "cell_type": "code",
   "execution_count": 22,
   "id": "c944e4fd",
   "metadata": {},
   "outputs": [],
   "source": [
    "daftar_peserta.remove(\"Joni\")"
   ]
  },
  {
   "cell_type": "code",
   "execution_count": 23,
   "id": "685f6acc",
   "metadata": {},
   "outputs": [
    {
     "ename": "ValueError",
     "evalue": "list.remove(x): x not in list",
     "output_type": "error",
     "traceback": [
      "\u001b[1;31m---------------------------------------------------------------------------\u001b[0m",
      "\u001b[1;31mValueError\u001b[0m                                Traceback (most recent call last)",
      "\u001b[1;32m~\\AppData\\Local\\Temp/ipykernel_16184/3989842997.py\u001b[0m in \u001b[0;36m<module>\u001b[1;34m\u001b[0m\n\u001b[1;32m----> 1\u001b[1;33m \u001b[0mdaftar_peserta\u001b[0m\u001b[1;33m.\u001b[0m\u001b[0mremove\u001b[0m\u001b[1;33m(\u001b[0m\u001b[1;34m\"Joni\"\u001b[0m\u001b[1;33m)\u001b[0m\u001b[1;33m\u001b[0m\u001b[1;33m\u001b[0m\u001b[0m\n\u001b[0m\u001b[0;32m      2\u001b[0m \u001b[0mdaftar_peserta\u001b[0m\u001b[1;33m\u001b[0m\u001b[1;33m\u001b[0m\u001b[0m\n",
      "\u001b[1;31mValueError\u001b[0m: list.remove(x): x not in list"
     ]
    }
   ],
   "source": [
    "daftar_peserta.remove(\"Joni\")\n",
    "daftar_peserta"
   ]
  },
  {
   "cell_type": "code",
   "execution_count": 24,
   "id": "50fa29e2",
   "metadata": {},
   "outputs": [],
   "source": [
    "daftar_peserta =[\"Budi\",\"Joni\" , \"Puteri\", \"Indah\", \"Ade\", \"Rahma\"]"
   ]
  },
  {
   "cell_type": "code",
   "execution_count": 25,
   "id": "0663a767",
   "metadata": {},
   "outputs": [],
   "source": [
    "daftar_peserta =[\"Dina\", \"Budi\", \"Joni\" , \"Puteri\", \"Indah\", \"Ade\", \"Rahma\", \"Ari\"]"
   ]
  },
  {
   "cell_type": "code",
   "execution_count": 26,
   "id": "8384b117",
   "metadata": {},
   "outputs": [
    {
     "data": {
      "text/plain": [
       "['Dina', 'Budi', 'Puteri', 'Indah', 'Ade', 'Rahma', 'Ari']"
      ]
     },
     "execution_count": 26,
     "metadata": {},
     "output_type": "execute_result"
    }
   ],
   "source": [
    "daftar_peserta.remove(\"Joni\")\n",
    "daftar_peserta"
   ]
  },
  {
   "cell_type": "code",
   "execution_count": 27,
   "id": "0a1dd467",
   "metadata": {},
   "outputs": [],
   "source": [
    "daftar_peserta[1] = \"Rudi\""
   ]
  },
  {
   "cell_type": "code",
   "execution_count": 28,
   "id": "fd78b549",
   "metadata": {},
   "outputs": [
    {
     "data": {
      "text/plain": [
       "['Dina', 'Rudi', 'Puteri', 'Indah', 'Ade', 'Rahma', 'Ari']"
      ]
     },
     "execution_count": 28,
     "metadata": {},
     "output_type": "execute_result"
    }
   ],
   "source": [
    "daftar_peserta[1] = \"Rudi\"\n",
    "daftar_peserta"
   ]
  },
  {
   "cell_type": "code",
   "execution_count": 29,
   "id": "c5da77fe",
   "metadata": {},
   "outputs": [
    {
     "name": "stdout",
     "output_type": "stream",
     "text": [
      "Nama:  Dina\n",
      "Nama:  Rudi\n",
      "Nama:  Puteri\n",
      "Nama:  Indah\n",
      "Nama:  Ade\n",
      "Nama:  Rahma\n",
      "Nama:  Ari\n"
     ]
    }
   ],
   "source": [
    "for peserta in daftar_peserta:\n",
    "    print (\"Nama: \", peserta)"
   ]
  },
  {
   "cell_type": "code",
   "execution_count": 30,
   "id": "61480b11",
   "metadata": {},
   "outputs": [
    {
     "name": "stdout",
     "output_type": "stream",
     "text": [
      "Dina LULUS\n",
      "Rudi LULUS\n",
      "Puteri LULUS\n",
      "Indah LULUS\n",
      "Ade LULUS\n",
      "Rahma LULUS\n",
      "Ari LULUS\n"
     ]
    }
   ],
   "source": [
    "for peserta in daftar_peserta:\n",
    "    print (peserta, \"LULUS\")"
   ]
  },
  {
   "cell_type": "code",
   "execution_count": 31,
   "id": "ea97d870",
   "metadata": {},
   "outputs": [],
   "source": [
    "import pandas as pd"
   ]
  },
  {
   "cell_type": "code",
   "execution_count": 32,
   "id": "fc283243",
   "metadata": {},
   "outputs": [],
   "source": [
    "data = pd.read_csv(\"demo_data_BMKG_Mamuju.csv\")"
   ]
  },
  {
   "cell_type": "code",
   "execution_count": 33,
   "id": "57ffcb50",
   "metadata": {},
   "outputs": [],
   "source": [
    "list_time = list(data['time'])"
   ]
  },
  {
   "cell_type": "code",
   "execution_count": 34,
   "id": "6c5f033c",
   "metadata": {},
   "outputs": [
    {
     "name": "stdout",
     "output_type": "stream",
     "text": [
      "time_pertama 2021-01-27T18:43:24.965Z\n",
      "tipe data <class 'str'>\n"
     ]
    }
   ],
   "source": [
    "list_time = list(data['time'])\n",
    "time_pertama = list_time[0]\n",
    "print(\"time_pertama\", time_pertama)\n",
    "print(\"tipe data\", type(time_pertama))"
   ]
  },
  {
   "cell_type": "code",
   "execution_count": 35,
   "id": "916dd789",
   "metadata": {},
   "outputs": [],
   "source": [
    "import datetime"
   ]
  },
  {
   "cell_type": "code",
   "execution_count": 36,
   "id": "e4c00c28",
   "metadata": {},
   "outputs": [
    {
     "name": "stdout",
     "output_type": "stream",
     "text": [
      "Help on built-in function strptime:\n",
      "\n",
      "strptime(...) method of builtins.type instance\n",
      "    string, format -> new datetime parsed from a string (like time.strptime()).\n",
      "\n"
     ]
    }
   ],
   "source": [
    "import datetime\n",
    "help(datetime.datetime.strptime)"
   ]
  },
  {
   "cell_type": "code",
   "execution_count": 37,
   "id": "fbb6a289",
   "metadata": {},
   "outputs": [
    {
     "name": "stdout",
     "output_type": "stream",
     "text": [
      "Help on built-in function strptime in module time:\n",
      "\n",
      "strptime(...)\n",
      "    strptime(string, format) -> struct_time\n",
      "    \n",
      "    Parse a string to a time tuple according to a format specification.\n",
      "    See the library reference manual for formatting codes (same as\n",
      "    strftime()).\n",
      "    \n",
      "    Commonly used format codes:\n",
      "    \n",
      "    %Y  Year with century as a decimal number.\n",
      "    %m  Month as a decimal number [01,12].\n",
      "    %d  Day of the month as a decimal number [01,31].\n",
      "    %H  Hour (24-hour clock) as a decimal number [00,23].\n",
      "    %M  Minute as a decimal number [00,59].\n",
      "    %S  Second as a decimal number [00,61].\n",
      "    %z  Time zone offset from UTC.\n",
      "    %a  Locale's abbreviated weekday name.\n",
      "    %A  Locale's full weekday name.\n",
      "    %b  Locale's abbreviated month name.\n",
      "    %B  Locale's full month name.\n",
      "    %c  Locale's appropriate date and time representation.\n",
      "    %I  Hour (12-hour clock) as a decimal number [01,12].\n",
      "    %p  Locale's equivalent of either AM or PM.\n",
      "    \n",
      "    Other codes may be available on your platform.  See documentation for\n",
      "    the C library strftime function.\n",
      "\n"
     ]
    }
   ],
   "source": [
    "import time\n",
    "help(time.strptime)"
   ]
  },
  {
   "cell_type": "code",
   "execution_count": 38,
   "id": "f827cc85",
   "metadata": {},
   "outputs": [
    {
     "ename": "AttributeError",
     "evalue": "type object 'datetime.datetime' has no attribute 'strp'",
     "output_type": "error",
     "traceback": [
      "\u001b[1;31m---------------------------------------------------------------------------\u001b[0m",
      "\u001b[1;31mAttributeError\u001b[0m                            Traceback (most recent call last)",
      "\u001b[1;32m~\\AppData\\Local\\Temp/ipykernel_16184/1061644148.py\u001b[0m in \u001b[0;36m<module>\u001b[1;34m\u001b[0m\n\u001b[1;32m----> 1\u001b[1;33m \u001b[0mtime_pertama_dt\u001b[0m \u001b[1;33m=\u001b[0m \u001b[0mdatetime\u001b[0m\u001b[1;33m.\u001b[0m\u001b[0mdatetime\u001b[0m\u001b[1;33m.\u001b[0m\u001b[0mstrp\u001b[0m\u001b[1;33m(\u001b[0m\u001b[0mtime_pertama\u001b[0m\u001b[1;33m,\u001b[0m \u001b[1;34m'%Y-%m-%dT%H:%M:%S.%fZ'\u001b[0m\u001b[1;33m)\u001b[0m\u001b[1;33m\u001b[0m\u001b[1;33m\u001b[0m\u001b[0m\n\u001b[0m",
      "\u001b[1;31mAttributeError\u001b[0m: type object 'datetime.datetime' has no attribute 'strp'"
     ]
    }
   ],
   "source": [
    "time_pertama_dt = datetime.datetime.strp(time_pertama, '%Y-%m-%dT%H:%M:%S.%fZ')"
   ]
  },
  {
   "cell_type": "code",
   "execution_count": 39,
   "id": "1e650454",
   "metadata": {},
   "outputs": [],
   "source": [
    "time_pertama_dt = datetime.datetime.strptime(time_pertama, '%Y-%m-%dT%H:%M:%S.%fZ')"
   ]
  },
  {
   "cell_type": "code",
   "execution_count": 40,
   "id": "be7104a6",
   "metadata": {},
   "outputs": [
    {
     "name": "stdout",
     "output_type": "stream",
     "text": [
      "time_pertama 2021-01-27T18:43:24.965Z\n",
      "time_pertama_dt 2021-01-27 18:43:24.965000\n"
     ]
    }
   ],
   "source": [
    "print(\"time_pertama\",time_pertama)\n",
    "print(\"time_pertama_dt\",time_pertama_dt)"
   ]
  },
  {
   "cell_type": "code",
   "execution_count": 41,
   "id": "79cbbe1f",
   "metadata": {},
   "outputs": [
    {
     "name": "stdout",
     "output_type": "stream",
     "text": [
      "tipe data_time_pertama <class 'str'>\n",
      "tipe data_time_pertama_dt <class 'datetime.datetime'>\n"
     ]
    }
   ],
   "source": [
    "print(\"tipe data_time_pertama\", type(time_pertama))\n",
    "print(\"tipe data_time_pertama_dt\", type(time_pertama_dt))"
   ]
  },
  {
   "cell_type": "code",
   "execution_count": 42,
   "id": "a902b8ce",
   "metadata": {},
   "outputs": [
    {
     "ename": "NameError",
     "evalue": "name 'd' is not defined",
     "output_type": "error",
     "traceback": [
      "\u001b[1;31m---------------------------------------------------------------------------\u001b[0m",
      "\u001b[1;31mNameError\u001b[0m                                 Traceback (most recent call last)",
      "\u001b[1;32m~\\AppData\\Local\\Temp/ipykernel_16184/3161387801.py\u001b[0m in \u001b[0;36m<module>\u001b[1;34m\u001b[0m\n\u001b[1;32m----> 1\u001b[1;33m \u001b[0md\u001b[0m\u001b[1;33m\u001b[0m\u001b[1;33m\u001b[0m\u001b[0m\n\u001b[0m",
      "\u001b[1;31mNameError\u001b[0m: name 'd' is not defined"
     ]
    }
   ],
   "source": [
    "d"
   ]
  },
  {
   "cell_type": "code",
   "execution_count": 43,
   "id": "90548ccf",
   "metadata": {},
   "outputs": [],
   "source": [
    "import datetime"
   ]
  },
  {
   "cell_type": "code",
   "execution_count": 44,
   "id": "9751fbaa",
   "metadata": {},
   "outputs": [
    {
     "data": {
      "text/plain": [
       "[datetime.datetime(2021, 1, 27, 18, 43, 24, 965000),\n",
       " datetime.datetime(2021, 1, 25, 16, 4, 16, 363000),\n",
       " datetime.datetime(2021, 1, 24, 20, 52, 8, 70000),\n",
       " datetime.datetime(2021, 1, 24, 16, 52, 55, 221000),\n",
       " datetime.datetime(2021, 1, 24, 2, 38, 50, 171000)]"
      ]
     },
     "execution_count": 44,
     "metadata": {},
     "output_type": "execute_result"
    }
   ],
   "source": [
    "list_time_dalam_datetime[:5]"
   ]
  },
  {
   "cell_type": "code",
   "execution_count": 45,
   "id": "62ff38d0",
   "metadata": {},
   "outputs": [
    {
     "name": "stderr",
     "output_type": "stream",
     "text": [
      "Matplotlib is building the font cache; this may take a moment.\n"
     ]
    },
    {
     "ename": "KeyError",
     "evalue": "'magnitudo'",
     "output_type": "error",
     "traceback": [
      "\u001b[1;31m---------------------------------------------------------------------------\u001b[0m",
      "\u001b[1;31mKeyError\u001b[0m                                  Traceback (most recent call last)",
      "\u001b[1;32m~\\miniconda3\\lib\\site-packages\\pandas\\core\\indexes\\base.py\u001b[0m in \u001b[0;36mget_loc\u001b[1;34m(self, key, method, tolerance)\u001b[0m\n\u001b[0;32m   3360\u001b[0m             \u001b[1;32mtry\u001b[0m\u001b[1;33m:\u001b[0m\u001b[1;33m\u001b[0m\u001b[1;33m\u001b[0m\u001b[0m\n\u001b[1;32m-> 3361\u001b[1;33m                 \u001b[1;32mreturn\u001b[0m \u001b[0mself\u001b[0m\u001b[1;33m.\u001b[0m\u001b[0m_engine\u001b[0m\u001b[1;33m.\u001b[0m\u001b[0mget_loc\u001b[0m\u001b[1;33m(\u001b[0m\u001b[0mcasted_key\u001b[0m\u001b[1;33m)\u001b[0m\u001b[1;33m\u001b[0m\u001b[1;33m\u001b[0m\u001b[0m\n\u001b[0m\u001b[0;32m   3362\u001b[0m             \u001b[1;32mexcept\u001b[0m \u001b[0mKeyError\u001b[0m \u001b[1;32mas\u001b[0m \u001b[0merr\u001b[0m\u001b[1;33m:\u001b[0m\u001b[1;33m\u001b[0m\u001b[1;33m\u001b[0m\u001b[0m\n",
      "\u001b[1;32m~\\miniconda3\\lib\\site-packages\\pandas\\_libs\\index.pyx\u001b[0m in \u001b[0;36mpandas._libs.index.IndexEngine.get_loc\u001b[1;34m()\u001b[0m\n",
      "\u001b[1;32m~\\miniconda3\\lib\\site-packages\\pandas\\_libs\\index.pyx\u001b[0m in \u001b[0;36mpandas._libs.index.IndexEngine.get_loc\u001b[1;34m()\u001b[0m\n",
      "\u001b[1;32mpandas\\_libs\\hashtable_class_helper.pxi\u001b[0m in \u001b[0;36mpandas._libs.hashtable.PyObjectHashTable.get_item\u001b[1;34m()\u001b[0m\n",
      "\u001b[1;32mpandas\\_libs\\hashtable_class_helper.pxi\u001b[0m in \u001b[0;36mpandas._libs.hashtable.PyObjectHashTable.get_item\u001b[1;34m()\u001b[0m\n",
      "\u001b[1;31mKeyError\u001b[0m: 'magnitudo'",
      "\nThe above exception was the direct cause of the following exception:\n",
      "\u001b[1;31mKeyError\u001b[0m                                  Traceback (most recent call last)",
      "\u001b[1;32m~\\AppData\\Local\\Temp/ipykernel_16184/3459493324.py\u001b[0m in \u001b[0;36m<module>\u001b[1;34m\u001b[0m\n\u001b[0;32m      3\u001b[0m \u001b[1;33m\u001b[0m\u001b[0m\n\u001b[0;32m      4\u001b[0m \u001b[0mwaktu\u001b[0m \u001b[1;33m=\u001b[0m \u001b[0mlist_time_dalam_datetime\u001b[0m\u001b[1;33m\u001b[0m\u001b[1;33m\u001b[0m\u001b[0m\n\u001b[1;32m----> 5\u001b[1;33m \u001b[0mmagnitudo\u001b[0m \u001b[1;33m=\u001b[0m \u001b[0mlist\u001b[0m\u001b[1;33m(\u001b[0m\u001b[0mdata\u001b[0m\u001b[1;33m[\u001b[0m\u001b[1;34m'magnitudo'\u001b[0m\u001b[1;33m]\u001b[0m\u001b[1;33m)\u001b[0m\u001b[1;33m\u001b[0m\u001b[1;33m\u001b[0m\u001b[0m\n\u001b[0m\u001b[0;32m      6\u001b[0m \u001b[1;33m\u001b[0m\u001b[0m\n\u001b[0;32m      7\u001b[0m \u001b[0mfig\u001b[0m\u001b[1;33m,\u001b[0m\u001b[0max\u001b[0m \u001b[1;33m=\u001b[0m\u001b[0mplt\u001b[0m\u001b[1;33m.\u001b[0m\u001b[0msubplots\u001b[0m\u001b[1;33m(\u001b[0m\u001b[1;33m)\u001b[0m\u001b[1;33m\u001b[0m\u001b[1;33m\u001b[0m\u001b[0m\n",
      "\u001b[1;32m~\\miniconda3\\lib\\site-packages\\pandas\\core\\frame.py\u001b[0m in \u001b[0;36m__getitem__\u001b[1;34m(self, key)\u001b[0m\n\u001b[0;32m   3456\u001b[0m             \u001b[1;32mif\u001b[0m \u001b[0mself\u001b[0m\u001b[1;33m.\u001b[0m\u001b[0mcolumns\u001b[0m\u001b[1;33m.\u001b[0m\u001b[0mnlevels\u001b[0m \u001b[1;33m>\u001b[0m \u001b[1;36m1\u001b[0m\u001b[1;33m:\u001b[0m\u001b[1;33m\u001b[0m\u001b[1;33m\u001b[0m\u001b[0m\n\u001b[0;32m   3457\u001b[0m                 \u001b[1;32mreturn\u001b[0m \u001b[0mself\u001b[0m\u001b[1;33m.\u001b[0m\u001b[0m_getitem_multilevel\u001b[0m\u001b[1;33m(\u001b[0m\u001b[0mkey\u001b[0m\u001b[1;33m)\u001b[0m\u001b[1;33m\u001b[0m\u001b[1;33m\u001b[0m\u001b[0m\n\u001b[1;32m-> 3458\u001b[1;33m             \u001b[0mindexer\u001b[0m \u001b[1;33m=\u001b[0m \u001b[0mself\u001b[0m\u001b[1;33m.\u001b[0m\u001b[0mcolumns\u001b[0m\u001b[1;33m.\u001b[0m\u001b[0mget_loc\u001b[0m\u001b[1;33m(\u001b[0m\u001b[0mkey\u001b[0m\u001b[1;33m)\u001b[0m\u001b[1;33m\u001b[0m\u001b[1;33m\u001b[0m\u001b[0m\n\u001b[0m\u001b[0;32m   3459\u001b[0m             \u001b[1;32mif\u001b[0m \u001b[0mis_integer\u001b[0m\u001b[1;33m(\u001b[0m\u001b[0mindexer\u001b[0m\u001b[1;33m)\u001b[0m\u001b[1;33m:\u001b[0m\u001b[1;33m\u001b[0m\u001b[1;33m\u001b[0m\u001b[0m\n\u001b[0;32m   3460\u001b[0m                 \u001b[0mindexer\u001b[0m \u001b[1;33m=\u001b[0m \u001b[1;33m[\u001b[0m\u001b[0mindexer\u001b[0m\u001b[1;33m]\u001b[0m\u001b[1;33m\u001b[0m\u001b[1;33m\u001b[0m\u001b[0m\n",
      "\u001b[1;32m~\\miniconda3\\lib\\site-packages\\pandas\\core\\indexes\\base.py\u001b[0m in \u001b[0;36mget_loc\u001b[1;34m(self, key, method, tolerance)\u001b[0m\n\u001b[0;32m   3361\u001b[0m                 \u001b[1;32mreturn\u001b[0m \u001b[0mself\u001b[0m\u001b[1;33m.\u001b[0m\u001b[0m_engine\u001b[0m\u001b[1;33m.\u001b[0m\u001b[0mget_loc\u001b[0m\u001b[1;33m(\u001b[0m\u001b[0mcasted_key\u001b[0m\u001b[1;33m)\u001b[0m\u001b[1;33m\u001b[0m\u001b[1;33m\u001b[0m\u001b[0m\n\u001b[0;32m   3362\u001b[0m             \u001b[1;32mexcept\u001b[0m \u001b[0mKeyError\u001b[0m \u001b[1;32mas\u001b[0m \u001b[0merr\u001b[0m\u001b[1;33m:\u001b[0m\u001b[1;33m\u001b[0m\u001b[1;33m\u001b[0m\u001b[0m\n\u001b[1;32m-> 3363\u001b[1;33m                 \u001b[1;32mraise\u001b[0m \u001b[0mKeyError\u001b[0m\u001b[1;33m(\u001b[0m\u001b[0mkey\u001b[0m\u001b[1;33m)\u001b[0m \u001b[1;32mfrom\u001b[0m \u001b[0merr\u001b[0m\u001b[1;33m\u001b[0m\u001b[1;33m\u001b[0m\u001b[0m\n\u001b[0m\u001b[0;32m   3364\u001b[0m \u001b[1;33m\u001b[0m\u001b[0m\n\u001b[0;32m   3365\u001b[0m         \u001b[1;32mif\u001b[0m \u001b[0mis_scalar\u001b[0m\u001b[1;33m(\u001b[0m\u001b[0mkey\u001b[0m\u001b[1;33m)\u001b[0m \u001b[1;32mand\u001b[0m \u001b[0misna\u001b[0m\u001b[1;33m(\u001b[0m\u001b[0mkey\u001b[0m\u001b[1;33m)\u001b[0m \u001b[1;32mand\u001b[0m \u001b[1;32mnot\u001b[0m \u001b[0mself\u001b[0m\u001b[1;33m.\u001b[0m\u001b[0mhasnans\u001b[0m\u001b[1;33m:\u001b[0m\u001b[1;33m\u001b[0m\u001b[1;33m\u001b[0m\u001b[0m\n",
      "\u001b[1;31mKeyError\u001b[0m: 'magnitudo'"
     ]
    }
   ],
   "source": [
    "import matplotlib.pyplot as plt\n",
    "import matplotlib.dates as mdates\n",
    "\n",
    "waktu = list_time_dalam_datetime\n",
    "magnitudo = list(data['magnitude'])\n",
    "\n",
    "fig,ax =plt.subplots()\n",
    "ax.scatter(waktu, magnitudo, color='red')\n",
    "ax.set_tittle(\"Grafik Hubungan Magnitudo terhadap Waktu Kejadian \\nGempa Bumi Mamuju\")\n",
    "ax.set_xlabel(\"Waktu\")\n",
    "ax.set_ylabel(\"Magnitudo (M)\")\n",
    "ax.xaxis.set_major_formatter(mdates.DateFormatter(\"%Y-%m-%d\"))\n",
    "\n",
    "plt.xticks(rotation=40)\n",
    "plt.grid()"
   ]
  },
  {
   "cell_type": "code",
   "execution_count": 46,
   "id": "2d79ac4a",
   "metadata": {},
   "outputs": [
    {
     "ename": "AttributeError",
     "evalue": "'AxesSubplot' object has no attribute 'set_tittle'",
     "output_type": "error",
     "traceback": [
      "\u001b[1;31m---------------------------------------------------------------------------\u001b[0m",
      "\u001b[1;31mAttributeError\u001b[0m                            Traceback (most recent call last)",
      "\u001b[1;32m~\\AppData\\Local\\Temp/ipykernel_16184/3251488467.py\u001b[0m in \u001b[0;36m<module>\u001b[1;34m\u001b[0m\n\u001b[0;32m      7\u001b[0m \u001b[0mfig\u001b[0m\u001b[1;33m,\u001b[0m\u001b[0max\u001b[0m \u001b[1;33m=\u001b[0m\u001b[0mplt\u001b[0m\u001b[1;33m.\u001b[0m\u001b[0msubplots\u001b[0m\u001b[1;33m(\u001b[0m\u001b[1;33m)\u001b[0m\u001b[1;33m\u001b[0m\u001b[1;33m\u001b[0m\u001b[0m\n\u001b[0;32m      8\u001b[0m \u001b[0max\u001b[0m\u001b[1;33m.\u001b[0m\u001b[0mscatter\u001b[0m\u001b[1;33m(\u001b[0m\u001b[0mwaktu\u001b[0m\u001b[1;33m,\u001b[0m \u001b[0mmagnitudo\u001b[0m\u001b[1;33m,\u001b[0m \u001b[0mcolor\u001b[0m\u001b[1;33m=\u001b[0m\u001b[1;34m'red'\u001b[0m\u001b[1;33m)\u001b[0m\u001b[1;33m\u001b[0m\u001b[1;33m\u001b[0m\u001b[0m\n\u001b[1;32m----> 9\u001b[1;33m \u001b[0max\u001b[0m\u001b[1;33m.\u001b[0m\u001b[0mset_tittle\u001b[0m\u001b[1;33m(\u001b[0m\u001b[1;34m\"Grafik Hubungan Magnitudo terhadap Waktu Kejadian \\nGempa Bumi Mamuju\"\u001b[0m\u001b[1;33m)\u001b[0m\u001b[1;33m\u001b[0m\u001b[1;33m\u001b[0m\u001b[0m\n\u001b[0m\u001b[0;32m     10\u001b[0m \u001b[0max\u001b[0m\u001b[1;33m.\u001b[0m\u001b[0mset_xlabel\u001b[0m\u001b[1;33m(\u001b[0m\u001b[1;34m\"Waktu\"\u001b[0m\u001b[1;33m)\u001b[0m\u001b[1;33m\u001b[0m\u001b[1;33m\u001b[0m\u001b[0m\n\u001b[0;32m     11\u001b[0m \u001b[0max\u001b[0m\u001b[1;33m.\u001b[0m\u001b[0mset_ylabel\u001b[0m\u001b[1;33m(\u001b[0m\u001b[1;34m\"Magnitudo (M)\"\u001b[0m\u001b[1;33m)\u001b[0m\u001b[1;33m\u001b[0m\u001b[1;33m\u001b[0m\u001b[0m\n",
      "\u001b[1;31mAttributeError\u001b[0m: 'AxesSubplot' object has no attribute 'set_tittle'"
     ]
    },
    {
     "data": {
      "image/png": "[encoded data removed]",
      "text/plain": [
       "<Figure size 432x288 with 1 Axes>"
      ]
     },
     "metadata": {
      "needs_background": "light"
     },
     "output_type": "display_data"
    }
   ],
   "source": [
    "import matplotlib.pyplot as plt\n",
    "import matplotlib.dates as mdates\n",
    "\n",
    "waktu = list_time_dalam_datetime\n",
    "magnitudo = list(data['magnitude'])\n",
    "\n",
    "fig,ax =plt.subplots()\n",
    "ax.scatter(waktu, magnitudo, color='red')\n",
    "ax.set_tittle(\"Grafik Hubungan Magnitudo terhadap Waktu Kejadian \\nGempa Bumi Mamuju\")\n",
    "ax.set_xlabel(\"Waktu\")\n",
    "ax.set_ylabel(\"Magnitudo (M)\")\n",
    "ax.xaxis.set_major_formatter(mdates.DateFormatter(\"%Y-%m-%d\"))\n",
    "\n",
    "plt.xticks(rotation=65)\n",
    "plt.grid()"
   ]
  },
  {
   "cell_type": "code",
   "execution_count": 47,
   "id": "178dd728",
   "metadata": {},
   "outputs": [
    {
     "ename": "AttributeError",
     "evalue": "'AxesSubplot' object has no attribute 'set_tittle'",
     "output_type": "error",
     "traceback": [
      "\u001b[1;31m---------------------------------------------------------------------------\u001b[0m",
      "\u001b[1;31mAttributeError\u001b[0m                            Traceback (most recent call last)",
      "\u001b[1;32m~\\AppData\\Local\\Temp/ipykernel_16184/2509966454.py\u001b[0m in \u001b[0;36m<module>\u001b[1;34m\u001b[0m\n\u001b[0;32m      7\u001b[0m \u001b[0mfig\u001b[0m\u001b[1;33m,\u001b[0m\u001b[0max\u001b[0m \u001b[1;33m=\u001b[0m\u001b[0mplt\u001b[0m\u001b[1;33m.\u001b[0m\u001b[0msubplots\u001b[0m\u001b[1;33m(\u001b[0m\u001b[1;33m)\u001b[0m\u001b[1;33m\u001b[0m\u001b[1;33m\u001b[0m\u001b[0m\n\u001b[0;32m      8\u001b[0m \u001b[0max\u001b[0m\u001b[1;33m.\u001b[0m\u001b[0mscatter\u001b[0m\u001b[1;33m(\u001b[0m\u001b[0mwaktu\u001b[0m\u001b[1;33m,\u001b[0m \u001b[0mmagnitudo\u001b[0m\u001b[1;33m,\u001b[0m \u001b[0mcolor\u001b[0m\u001b[1;33m=\u001b[0m\u001b[1;34m'red'\u001b[0m\u001b[1;33m)\u001b[0m\u001b[1;33m\u001b[0m\u001b[1;33m\u001b[0m\u001b[0m\n\u001b[1;32m----> 9\u001b[1;33m \u001b[0max\u001b[0m\u001b[1;33m.\u001b[0m\u001b[0mset_tittle\u001b[0m\u001b[1;33m(\u001b[0m\u001b[1;34m\"Grafik Hubungan Magnitudo terhadap Waktu Kejadian \\nGempa Bumi Mamuju\"\u001b[0m\u001b[1;33m)\u001b[0m\u001b[1;33m\u001b[0m\u001b[1;33m\u001b[0m\u001b[0m\n\u001b[0m\u001b[0;32m     10\u001b[0m \u001b[0max\u001b[0m\u001b[1;33m.\u001b[0m\u001b[0mset_xlabel\u001b[0m\u001b[1;33m(\u001b[0m\u001b[1;34m\"Waktu\"\u001b[0m\u001b[1;33m)\u001b[0m\u001b[1;33m\u001b[0m\u001b[1;33m\u001b[0m\u001b[0m\n\u001b[0;32m     11\u001b[0m \u001b[0max\u001b[0m\u001b[1;33m.\u001b[0m\u001b[0mset_ylabel\u001b[0m\u001b[1;33m(\u001b[0m\u001b[1;34m\"Magnitudo (M)\"\u001b[0m\u001b[1;33m)\u001b[0m\u001b[1;33m\u001b[0m\u001b[1;33m\u001b[0m\u001b[0m\n",
      "\u001b[1;31mAttributeError\u001b[0m: 'AxesSubplot' object has no attribute 'set_tittle'"
     ]
    },
    {
     "data": {
      "image/png": "[encoded data removed]",
      "text/plain": [
       "<Figure size 432x288 with 1 Axes>"
      ]
     },
     "metadata": {
      "needs_background": "light"
     },
     "output_type": "display_data"
    }
   ],
   "source": [
    "import matplotlib.pyplot as plt\n",
    "import matplotlib.dates as mdates\n",
    "\n",
    "waktu = list_time_dalam_datetime\n",
    "magnitudo = list(data['magnitude'])\n",
    "\n",
    "fig,ax =plt.subplots()\n",
    "ax.scatter(waktu, magnitudo, color='red')\n",
    "ax.set_title(\"Grafik Hubungan Magnitudo terhadap Waktu Kejadian \\nGempa Bumi Mamuju\")\n",
    "ax.set_xlabel(\"Waktu\")\n",
    "ax.set_ylabel(\"Magnitudo (M)\")\n",
    "ax.xaxis.set_major_formatter(mdates.DateFormatter(\"%Y-%m-%d\"))\n",
    "\n",
    "plt.xticks(rotation=65)\n",
    "plt.grid()"
   ]
  },
  {
   "cell_type": "code",
   "execution_count": 48,
   "id": "14cb5fd0",
   "metadata": {},
   "outputs": [
    {
     "data": {
      "image/png": "[encoded data removed]",
      "text/plain": [
       "<Figure size 432x288 with 1 Axes>"
      ]
     },
     "metadata": {
      "needs_background": "light"
     },
     "output_type": "display_data"
    }
   ],
   "source": [
    "import matplotlib.pyplot as plt\n",
    "import matplotlib.dates as mdates\n",
    "\n",
    "waktu = list_time_dalam_datetime\n",
    "magnitudo = list(data['magnitude'])\n",
    "\n",
    "fig,ax =plt.subplots()\n",
    "ax.scatter(waktu, magnitudo, color='red')\n",
    "ax.set_title(\"Grafik Hubungan Magnitudo terhadap Waktu Kejadian \\nGempa Bumi Mamuju\")\n",
    "ax.set_xlabel(\"Waktu\")\n",
    "ax.set_ylabel(\"Magnitudo (M)\")\n",
    "ax.xaxis.set_major_formatter(mdates.DateFormatter(\"%Y-%m-%d\"))\n",
    "\n",
    "plt.xticks(rotation=70)\n",
    "plt.grid()"
   ]
  },
  {
   "cell_type": "code",
   "execution_count": 49,
   "id": "8a22b058",
   "metadata": {},
   "outputs": [
    {
     "data": {
      "image/png": "[encoded data removed]",
      "text/plain": [
       "<Figure size 432x288 with 1 Axes>"
      ]
     },
     "metadata": {
      "needs_background": "light"
     },
     "output_type": "display_data"
    }
   ],
   "source": [
    "import matplotlib.pyplot as plt\n",
    "import matplotlib.dates as mdates\n",
    "\n",
    "waktu = list_time_dalam_datetime\n",
    "magnitudo = list(data['magnitude'])\n",
    "\n",
    "fig,ax =plt.subplots()\n",
    "ax.scatter(waktu, magnitudo, color='red')\n",
    "ax.set_title(\"Grafik Hubungan Magnitudo terhadap Waktu Kejadian \\nGempa Bumi Mamuju\")\n",
    "ax.set_xlabel(\"Waktu\")\n",
    "ax.set_ylabel(\"Magnitudo (M)\")\n",
    "ax.xaxis.set_major_formatter(mdates.DateFormatter(\"%Y-%m-%d\"))\n",
    "\n",
    "plt.xticks(rotation=30)\n",
    "plt.grid()"
   ]
  },
  {
   "cell_type": "code",
   "execution_count": 50,
   "id": "19484c7a",
   "metadata": {},
   "outputs": [
    {
     "data": {
      "image/png": "[encoded data removed]",
      "text/plain": [
       "<Figure size 432x288 with 1 Axes>"
      ]
     },
     "metadata": {
      "needs_background": "light"
     },
     "output_type": "display_data"
    }
   ],
   "source": [
    "import matplotlib.pyplot as plt\n",
    "import matplotlib.dates as mdates\n",
    "\n",
    "waktu = list_time_dalam_datetime\n",
    "magnitudo = list(data['magnitude'])\n",
    "\n",
    "fig,ax =plt.subplots()\n",
    "ax.scatter(waktu, magnitudo, color='red')\n",
    "ax.set_title(\"Grafik Hubungan Magnitudo terhadap Waktu Kejadian \\nGempa Bumi Mamuju\")\n",
    "ax.set_xlabel(\"Waktu\")\n",
    "ax.set_ylabel(\"Magnitudo (M)\")\n",
    "ax.xaxis.set_major_formatter(mdates.DateFormatter(\"%Y-%m-%d\"))\n",
    "\n",
    "plt.xticks(rotation=30)\n",
    "plt.grid()"
   ]
  },
  {
   "cell_type": "code",
   "execution_count": 51,
   "id": "33015df8",
   "metadata": {
    "scrolled": true
   },
   "outputs": [
    {
     "data": {
      "image/png": "[encoded data removed]",
      "text/plain": [
       "<Figure size 432x288 with 1 Axes>"
      ]
     },
     "metadata": {
      "needs_background": "light"
     },
     "output_type": "display_data"
    }
   ],
   "source": [
    "import matplotlib.pyplot as plt\n",
    "import matplotlib.dates as mdates\n",
    "\n",
    "waktu = list_time_dalam_datetime\n",
    "magnitudo = list(data['magnitude'])\n",
    "\n",
    "fig,ax =plt.subplots()\n",
    "ax.scatter(waktu, magnitudo, color='red')\n",
    "ax.set_title(\"Grafik Hubungan Magnitudo terhadap Waktu Kejadian \\nGempa Bumi Mamuju\")\n",
    "ax.set_xlabel(\"Waktu\")\n",
    "ax.set_ylabel(\"Magnitudo (M)\")\n",
    "ax.xaxis.set_major_formatter(mdates.DateFormatter(\"%Y-%m-%d\"))\n",
    "\n",
    "plt.xticks(rotation=60)\n",
    "plt.grid()"
   ]
  },
  {
   "cell_type": "code",
   "execution_count": 52,
   "id": "30e257fc",
   "metadata": {},
   "outputs": [
    {
     "name": "stdout",
     "output_type": "stream",
     "text": [
      "Masukkan nilai anda: 55\n",
      "Nilai anda C\n"
     ]
    }
   ],
   "source": [
    "nilai = float(input(\"Masukkan nilai anda: \"))\n",
    "\n",
    "if nilai <50:\n",
    "    print(\"Nilai anda\", \"D\")\n",
    "elif nilai <60:\n",
    "    print(\"Nilai anda\", \"C\")\n",
    "elif nilai <70:\n",
    "    print(\"Nilai anda\", \"B\")\n",
    "else:\n",
    "    print(\"Nilai anda\", \"A\")"
   ]
  },
  {
   "cell_type": "code",
   "execution_count": 53,
   "id": "60928ffe",
   "metadata": {},
   "outputs": [
    {
     "ename": "NameError",
     "evalue": "name 'kolom_waktu' is not defined",
     "output_type": "error",
     "traceback": [
      "\u001b[1;31m---------------------------------------------------------------------------\u001b[0m",
      "\u001b[1;31mNameError\u001b[0m                                 Traceback (most recent call last)",
      "\u001b[1;32m~\\AppData\\Local\\Temp/ipykernel_16184/3739403716.py\u001b[0m in \u001b[0;36m<module>\u001b[1;34m\u001b[0m\n\u001b[1;32m----> 1\u001b[1;33m katalog_Dict = dict(waktu=kolom_waktu,\n\u001b[0m\u001b[0;32m      2\u001b[0m                     \u001b[0mlatitude\u001b[0m\u001b[1;33m=\u001b[0m\u001b[0mkolom_latitude\u001b[0m\u001b[1;33m,\u001b[0m\u001b[1;33m\u001b[0m\u001b[1;33m\u001b[0m\u001b[0m\n\u001b[0;32m      3\u001b[0m                     \u001b[0mlongitude\u001b[0m\u001b[1;33m=\u001b[0m\u001b[0mkolom_longitude\u001b[0m\u001b[1;33m,\u001b[0m\u001b[1;33m\u001b[0m\u001b[1;33m\u001b[0m\u001b[0m\n\u001b[0;32m      4\u001b[0m                     \u001b[0mkedalaman\u001b[0m\u001b[1;33m=\u001b[0m\u001b[0mkolom_kedalaman\u001b[0m\u001b[1;33m,\u001b[0m\u001b[1;33m\u001b[0m\u001b[1;33m\u001b[0m\u001b[0m\n\u001b[0;32m      5\u001b[0m                     magnitudo=kolom_magnitudo)\n",
      "\u001b[1;31mNameError\u001b[0m: name 'kolom_waktu' is not defined"
     ]
    }
   ],
   "source": [
    "katalog_Dict = dict(waktu=kolom_waktu,\n",
    "                    latitude=kolom_latitude,\n",
    "                    longitude=kolom_longitude,\n",
    "                    kedalaman=kolom_kedalaman,\n",
    "                    magnitudo=kolom_magnitudo)\n",
    "katalog_dict"
   ]
  },
  {
   "cell_type": "code",
   "execution_count": 54,
   "id": "53320060",
   "metadata": {},
   "outputs": [
    {
     "ename": "KeyError",
     "evalue": "'latiitude'",
     "output_type": "error",
     "traceback": [
      "\u001b[1;31m---------------------------------------------------------------------------\u001b[0m",
      "\u001b[1;31mKeyError\u001b[0m                                  Traceback (most recent call last)",
      "\u001b[1;32m~\\miniconda3\\lib\\site-packages\\pandas\\core\\indexes\\base.py\u001b[0m in \u001b[0;36mget_loc\u001b[1;34m(self, key, method, tolerance)\u001b[0m\n\u001b[0;32m   3360\u001b[0m             \u001b[1;32mtry\u001b[0m\u001b[1;33m:\u001b[0m\u001b[1;33m\u001b[0m\u001b[1;33m\u001b[0m\u001b[0m\n\u001b[1;32m-> 3361\u001b[1;33m                 \u001b[1;32mreturn\u001b[0m \u001b[0mself\u001b[0m\u001b[1;33m.\u001b[0m\u001b[0m_engine\u001b[0m\u001b[1;33m.\u001b[0m\u001b[0mget_loc\u001b[0m\u001b[1;33m(\u001b[0m\u001b[0mcasted_key\u001b[0m\u001b[1;33m)\u001b[0m\u001b[1;33m\u001b[0m\u001b[1;33m\u001b[0m\u001b[0m\n\u001b[0m\u001b[0;32m   3362\u001b[0m             \u001b[1;32mexcept\u001b[0m \u001b[0mKeyError\u001b[0m \u001b[1;32mas\u001b[0m \u001b[0merr\u001b[0m\u001b[1;33m:\u001b[0m\u001b[1;33m\u001b[0m\u001b[1;33m\u001b[0m\u001b[0m\n",
      "\u001b[1;32m~\\miniconda3\\lib\\site-packages\\pandas\\_libs\\index.pyx\u001b[0m in \u001b[0;36mpandas._libs.index.IndexEngine.get_loc\u001b[1;34m()\u001b[0m\n",
      "\u001b[1;32m~\\miniconda3\\lib\\site-packages\\pandas\\_libs\\index.pyx\u001b[0m in \u001b[0;36mpandas._libs.index.IndexEngine.get_loc\u001b[1;34m()\u001b[0m\n",
      "\u001b[1;32mpandas\\_libs\\hashtable_class_helper.pxi\u001b[0m in \u001b[0;36mpandas._libs.hashtable.PyObjectHashTable.get_item\u001b[1;34m()\u001b[0m\n",
      "\u001b[1;32mpandas\\_libs\\hashtable_class_helper.pxi\u001b[0m in \u001b[0;36mpandas._libs.hashtable.PyObjectHashTable.get_item\u001b[1;34m()\u001b[0m\n",
      "\u001b[1;31mKeyError\u001b[0m: 'latiitude'",
      "\nThe above exception was the direct cause of the following exception:\n",
      "\u001b[1;31mKeyError\u001b[0m                                  Traceback (most recent call last)",
      "\u001b[1;32m~\\AppData\\Local\\Temp/ipykernel_16184/2942712299.py\u001b[0m in \u001b[0;36m<module>\u001b[1;34m\u001b[0m\n\u001b[0;32m      1\u001b[0m \u001b[0mkolom_waktu\u001b[0m \u001b[1;33m=\u001b[0m \u001b[0mlist_time_dalam_datetime\u001b[0m\u001b[1;33m\u001b[0m\u001b[1;33m\u001b[0m\u001b[0m\n\u001b[0;32m      2\u001b[0m \u001b[0mkolom_longitude\u001b[0m \u001b[1;33m=\u001b[0m \u001b[0mlist\u001b[0m\u001b[1;33m(\u001b[0m\u001b[0mdata\u001b[0m\u001b[1;33m[\u001b[0m\u001b[1;34m'longitude'\u001b[0m\u001b[1;33m]\u001b[0m\u001b[1;33m)\u001b[0m\u001b[1;33m\u001b[0m\u001b[1;33m\u001b[0m\u001b[0m\n\u001b[1;32m----> 3\u001b[1;33m \u001b[0mkolom_latitude\u001b[0m \u001b[1;33m=\u001b[0m \u001b[0mlist\u001b[0m\u001b[1;33m(\u001b[0m\u001b[0mdata\u001b[0m\u001b[1;33m[\u001b[0m\u001b[1;34m'latiitude'\u001b[0m\u001b[1;33m]\u001b[0m\u001b[1;33m)\u001b[0m\u001b[1;33m\u001b[0m\u001b[1;33m\u001b[0m\u001b[0m\n\u001b[0m\u001b[0;32m      4\u001b[0m \u001b[0mkolom_kedalaman\u001b[0m \u001b[1;33m=\u001b[0m \u001b[0mlist\u001b[0m\u001b[1;33m(\u001b[0m\u001b[0mdata\u001b[0m\u001b[1;33m[\u001b[0m\u001b[1;34m'depth'\u001b[0m\u001b[1;33m]\u001b[0m\u001b[1;33m)\u001b[0m\u001b[1;33m\u001b[0m\u001b[1;33m\u001b[0m\u001b[0m\n\u001b[0;32m      5\u001b[0m \u001b[0mkolom_magnitudo\u001b[0m \u001b[1;33m=\u001b[0m \u001b[0mlist\u001b[0m\u001b[1;33m(\u001b[0m\u001b[0mdata\u001b[0m\u001b[1;33m[\u001b[0m\u001b[1;34m'magnitude'\u001b[0m\u001b[1;33m]\u001b[0m\u001b[1;33m)\u001b[0m\u001b[1;33m\u001b[0m\u001b[1;33m\u001b[0m\u001b[0m\n",
      "\u001b[1;32m~\\miniconda3\\lib\\site-packages\\pandas\\core\\frame.py\u001b[0m in \u001b[0;36m__getitem__\u001b[1;34m(self, key)\u001b[0m\n\u001b[0;32m   3456\u001b[0m             \u001b[1;32mif\u001b[0m \u001b[0mself\u001b[0m\u001b[1;33m.\u001b[0m\u001b[0mcolumns\u001b[0m\u001b[1;33m.\u001b[0m\u001b[0mnlevels\u001b[0m \u001b[1;33m>\u001b[0m \u001b[1;36m1\u001b[0m\u001b[1;33m:\u001b[0m\u001b[1;33m\u001b[0m\u001b[1;33m\u001b[0m\u001b[0m\n\u001b[0;32m   3457\u001b[0m                 \u001b[1;32mreturn\u001b[0m \u001b[0mself\u001b[0m\u001b[1;33m.\u001b[0m\u001b[0m_getitem_multilevel\u001b[0m\u001b[1;33m(\u001b[0m\u001b[0mkey\u001b[0m\u001b[1;33m)\u001b[0m\u001b[1;33m\u001b[0m\u001b[1;33m\u001b[0m\u001b[0m\n\u001b[1;32m-> 3458\u001b[1;33m             \u001b[0mindexer\u001b[0m \u001b[1;33m=\u001b[0m \u001b[0mself\u001b[0m\u001b[1;33m.\u001b[0m\u001b[0mcolumns\u001b[0m\u001b[1;33m.\u001b[0m\u001b[0mget_loc\u001b[0m\u001b[1;33m(\u001b[0m\u001b[0mkey\u001b[0m\u001b[1;33m)\u001b[0m\u001b[1;33m\u001b[0m\u001b[1;33m\u001b[0m\u001b[0m\n\u001b[0m\u001b[0;32m   3459\u001b[0m             \u001b[1;32mif\u001b[0m \u001b[0mis_integer\u001b[0m\u001b[1;33m(\u001b[0m\u001b[0mindexer\u001b[0m\u001b[1;33m)\u001b[0m\u001b[1;33m:\u001b[0m\u001b[1;33m\u001b[0m\u001b[1;33m\u001b[0m\u001b[0m\n\u001b[0;32m   3460\u001b[0m                 \u001b[0mindexer\u001b[0m \u001b[1;33m=\u001b[0m \u001b[1;33m[\u001b[0m\u001b[0mindexer\u001b[0m\u001b[1;33m]\u001b[0m\u001b[1;33m\u001b[0m\u001b[1;33m\u001b[0m\u001b[0m\n",
      "\u001b[1;32m~\\miniconda3\\lib\\site-packages\\pandas\\core\\indexes\\base.py\u001b[0m in \u001b[0;36mget_loc\u001b[1;34m(self, key, method, tolerance)\u001b[0m\n\u001b[0;32m   3361\u001b[0m                 \u001b[1;32mreturn\u001b[0m \u001b[0mself\u001b[0m\u001b[1;33m.\u001b[0m\u001b[0m_engine\u001b[0m\u001b[1;33m.\u001b[0m\u001b[0mget_loc\u001b[0m\u001b[1;33m(\u001b[0m\u001b[0mcasted_key\u001b[0m\u001b[1;33m)\u001b[0m\u001b[1;33m\u001b[0m\u001b[1;33m\u001b[0m\u001b[0m\n\u001b[0;32m   3362\u001b[0m             \u001b[1;32mexcept\u001b[0m \u001b[0mKeyError\u001b[0m \u001b[1;32mas\u001b[0m \u001b[0merr\u001b[0m\u001b[1;33m:\u001b[0m\u001b[1;33m\u001b[0m\u001b[1;33m\u001b[0m\u001b[0m\n\u001b[1;32m-> 3363\u001b[1;33m                 \u001b[1;32mraise\u001b[0m \u001b[0mKeyError\u001b[0m\u001b[1;33m(\u001b[0m\u001b[0mkey\u001b[0m\u001b[1;33m)\u001b[0m \u001b[1;32mfrom\u001b[0m \u001b[0merr\u001b[0m\u001b[1;33m\u001b[0m\u001b[1;33m\u001b[0m\u001b[0m\n\u001b[0m\u001b[0;32m   3364\u001b[0m \u001b[1;33m\u001b[0m\u001b[0m\n\u001b[0;32m   3365\u001b[0m         \u001b[1;32mif\u001b[0m \u001b[0mis_scalar\u001b[0m\u001b[1;33m(\u001b[0m\u001b[0mkey\u001b[0m\u001b[1;33m)\u001b[0m \u001b[1;32mand\u001b[0m \u001b[0misna\u001b[0m\u001b[1;33m(\u001b[0m\u001b[0mkey\u001b[0m\u001b[1;33m)\u001b[0m \u001b[1;32mand\u001b[0m \u001b[1;32mnot\u001b[0m \u001b[0mself\u001b[0m\u001b[1;33m.\u001b[0m\u001b[0mhasnans\u001b[0m\u001b[1;33m:\u001b[0m\u001b[1;33m\u001b[0m\u001b[1;33m\u001b[0m\u001b[0m\n",
      "\u001b[1;31mKeyError\u001b[0m: 'latiitude'"
     ]
    }
   ],
   "source": [
    "kolom_waktu = list_time_dalam_datetime\n",
    "kolom_longitude = list(data['longitude'])\n",
    "kolom_latitude = list(data['latiitude'])\n",
    "kolom_kedalaman = list(data['depth'])\n",
    "kolom_magnitudo = list(data['magnitude'])"
   ]
  },
  {
   "cell_type": "code",
   "execution_count": 55,
   "id": "8bea5478",
   "metadata": {},
   "outputs": [
    {
     "ename": "KeyError",
     "evalue": "'latiitude'",
     "output_type": "error",
     "traceback": [
      "\u001b[1;31m---------------------------------------------------------------------------\u001b[0m",
      "\u001b[1;31mKeyError\u001b[0m                                  Traceback (most recent call last)",
      "\u001b[1;32m~\\miniconda3\\lib\\site-packages\\pandas\\core\\indexes\\base.py\u001b[0m in \u001b[0;36mget_loc\u001b[1;34m(self, key, method, tolerance)\u001b[0m\n\u001b[0;32m   3360\u001b[0m             \u001b[1;32mtry\u001b[0m\u001b[1;33m:\u001b[0m\u001b[1;33m\u001b[0m\u001b[1;33m\u001b[0m\u001b[0m\n\u001b[1;32m-> 3361\u001b[1;33m                 \u001b[1;32mreturn\u001b[0m \u001b[0mself\u001b[0m\u001b[1;33m.\u001b[0m\u001b[0m_engine\u001b[0m\u001b[1;33m.\u001b[0m\u001b[0mget_loc\u001b[0m\u001b[1;33m(\u001b[0m\u001b[0mcasted_key\u001b[0m\u001b[1;33m)\u001b[0m\u001b[1;33m\u001b[0m\u001b[1;33m\u001b[0m\u001b[0m\n\u001b[0m\u001b[0;32m   3362\u001b[0m             \u001b[1;32mexcept\u001b[0m \u001b[0mKeyError\u001b[0m \u001b[1;32mas\u001b[0m \u001b[0merr\u001b[0m\u001b[1;33m:\u001b[0m\u001b[1;33m\u001b[0m\u001b[1;33m\u001b[0m\u001b[0m\n",
      "\u001b[1;32m~\\miniconda3\\lib\\site-packages\\pandas\\_libs\\index.pyx\u001b[0m in \u001b[0;36mpandas._libs.index.IndexEngine.get_loc\u001b[1;34m()\u001b[0m\n",
      "\u001b[1;32m~\\miniconda3\\lib\\site-packages\\pandas\\_libs\\index.pyx\u001b[0m in \u001b[0;36mpandas._libs.index.IndexEngine.get_loc\u001b[1;34m()\u001b[0m\n",
      "\u001b[1;32mpandas\\_libs\\hashtable_class_helper.pxi\u001b[0m in \u001b[0;36mpandas._libs.hashtable.PyObjectHashTable.get_item\u001b[1;34m()\u001b[0m\n",
      "\u001b[1;32mpandas\\_libs\\hashtable_class_helper.pxi\u001b[0m in \u001b[0;36mpandas._libs.hashtable.PyObjectHashTable.get_item\u001b[1;34m()\u001b[0m\n",
      "\u001b[1;31mKeyError\u001b[0m: 'latiitude'",
      "\nThe above exception was the direct cause of the following exception:\n",
      "\u001b[1;31mKeyError\u001b[0m                                  Traceback (most recent call last)",
      "\u001b[1;32m~\\AppData\\Local\\Temp/ipykernel_16184/191311936.py\u001b[0m in \u001b[0;36m<module>\u001b[1;34m\u001b[0m\n\u001b[0;32m      1\u001b[0m \u001b[0mkolom_waktu\u001b[0m \u001b[1;33m=\u001b[0m \u001b[0mlist_time_dalam_datetime\u001b[0m\u001b[1;33m\u001b[0m\u001b[1;33m\u001b[0m\u001b[0m\n\u001b[1;32m----> 2\u001b[1;33m \u001b[0mkolom_latitude\u001b[0m \u001b[1;33m=\u001b[0m \u001b[0mlist\u001b[0m\u001b[1;33m(\u001b[0m\u001b[0mdata\u001b[0m\u001b[1;33m[\u001b[0m\u001b[1;34m'latiitude'\u001b[0m\u001b[1;33m]\u001b[0m\u001b[1;33m)\u001b[0m\u001b[1;33m\u001b[0m\u001b[1;33m\u001b[0m\u001b[0m\n\u001b[0m\u001b[0;32m      3\u001b[0m \u001b[0mkolom_longitude\u001b[0m \u001b[1;33m=\u001b[0m \u001b[0mlist\u001b[0m\u001b[1;33m(\u001b[0m\u001b[0mdata\u001b[0m\u001b[1;33m[\u001b[0m\u001b[1;34m'longitude'\u001b[0m\u001b[1;33m]\u001b[0m\u001b[1;33m)\u001b[0m\u001b[1;33m\u001b[0m\u001b[1;33m\u001b[0m\u001b[0m\n\u001b[0;32m      4\u001b[0m \u001b[0mkolom_kedalaman\u001b[0m \u001b[1;33m=\u001b[0m \u001b[0mlist\u001b[0m\u001b[1;33m(\u001b[0m\u001b[0mdata\u001b[0m\u001b[1;33m[\u001b[0m\u001b[1;34m'depth'\u001b[0m\u001b[1;33m]\u001b[0m\u001b[1;33m)\u001b[0m\u001b[1;33m\u001b[0m\u001b[1;33m\u001b[0m\u001b[0m\n\u001b[0;32m      5\u001b[0m \u001b[0mkolom_magnitudo\u001b[0m \u001b[1;33m=\u001b[0m \u001b[0mlist\u001b[0m\u001b[1;33m(\u001b[0m\u001b[0mdata\u001b[0m\u001b[1;33m[\u001b[0m\u001b[1;34m'magnitude'\u001b[0m\u001b[1;33m]\u001b[0m\u001b[1;33m)\u001b[0m\u001b[1;33m\u001b[0m\u001b[1;33m\u001b[0m\u001b[0m\n",
      "\u001b[1;32m~\\miniconda3\\lib\\site-packages\\pandas\\core\\frame.py\u001b[0m in \u001b[0;36m__getitem__\u001b[1;34m(self, key)\u001b[0m\n\u001b[0;32m   3456\u001b[0m             \u001b[1;32mif\u001b[0m \u001b[0mself\u001b[0m\u001b[1;33m.\u001b[0m\u001b[0mcolumns\u001b[0m\u001b[1;33m.\u001b[0m\u001b[0mnlevels\u001b[0m \u001b[1;33m>\u001b[0m \u001b[1;36m1\u001b[0m\u001b[1;33m:\u001b[0m\u001b[1;33m\u001b[0m\u001b[1;33m\u001b[0m\u001b[0m\n\u001b[0;32m   3457\u001b[0m                 \u001b[1;32mreturn\u001b[0m \u001b[0mself\u001b[0m\u001b[1;33m.\u001b[0m\u001b[0m_getitem_multilevel\u001b[0m\u001b[1;33m(\u001b[0m\u001b[0mkey\u001b[0m\u001b[1;33m)\u001b[0m\u001b[1;33m\u001b[0m\u001b[1;33m\u001b[0m\u001b[0m\n\u001b[1;32m-> 3458\u001b[1;33m             \u001b[0mindexer\u001b[0m \u001b[1;33m=\u001b[0m \u001b[0mself\u001b[0m\u001b[1;33m.\u001b[0m\u001b[0mcolumns\u001b[0m\u001b[1;33m.\u001b[0m\u001b[0mget_loc\u001b[0m\u001b[1;33m(\u001b[0m\u001b[0mkey\u001b[0m\u001b[1;33m)\u001b[0m\u001b[1;33m\u001b[0m\u001b[1;33m\u001b[0m\u001b[0m\n\u001b[0m\u001b[0;32m   3459\u001b[0m             \u001b[1;32mif\u001b[0m \u001b[0mis_integer\u001b[0m\u001b[1;33m(\u001b[0m\u001b[0mindexer\u001b[0m\u001b[1;33m)\u001b[0m\u001b[1;33m:\u001b[0m\u001b[1;33m\u001b[0m\u001b[1;33m\u001b[0m\u001b[0m\n\u001b[0;32m   3460\u001b[0m                 \u001b[0mindexer\u001b[0m \u001b[1;33m=\u001b[0m \u001b[1;33m[\u001b[0m\u001b[0mindexer\u001b[0m\u001b[1;33m]\u001b[0m\u001b[1;33m\u001b[0m\u001b[1;33m\u001b[0m\u001b[0m\n",
      "\u001b[1;32m~\\miniconda3\\lib\\site-packages\\pandas\\core\\indexes\\base.py\u001b[0m in \u001b[0;36mget_loc\u001b[1;34m(self, key, method, tolerance)\u001b[0m\n\u001b[0;32m   3361\u001b[0m                 \u001b[1;32mreturn\u001b[0m \u001b[0mself\u001b[0m\u001b[1;33m.\u001b[0m\u001b[0m_engine\u001b[0m\u001b[1;33m.\u001b[0m\u001b[0mget_loc\u001b[0m\u001b[1;33m(\u001b[0m\u001b[0mcasted_key\u001b[0m\u001b[1;33m)\u001b[0m\u001b[1;33m\u001b[0m\u001b[1;33m\u001b[0m\u001b[0m\n\u001b[0;32m   3362\u001b[0m             \u001b[1;32mexcept\u001b[0m \u001b[0mKeyError\u001b[0m \u001b[1;32mas\u001b[0m \u001b[0merr\u001b[0m\u001b[1;33m:\u001b[0m\u001b[1;33m\u001b[0m\u001b[1;33m\u001b[0m\u001b[0m\n\u001b[1;32m-> 3363\u001b[1;33m                 \u001b[1;32mraise\u001b[0m \u001b[0mKeyError\u001b[0m\u001b[1;33m(\u001b[0m\u001b[0mkey\u001b[0m\u001b[1;33m)\u001b[0m \u001b[1;32mfrom\u001b[0m \u001b[0merr\u001b[0m\u001b[1;33m\u001b[0m\u001b[1;33m\u001b[0m\u001b[0m\n\u001b[0m\u001b[0;32m   3364\u001b[0m \u001b[1;33m\u001b[0m\u001b[0m\n\u001b[0;32m   3365\u001b[0m         \u001b[1;32mif\u001b[0m \u001b[0mis_scalar\u001b[0m\u001b[1;33m(\u001b[0m\u001b[0mkey\u001b[0m\u001b[1;33m)\u001b[0m \u001b[1;32mand\u001b[0m \u001b[0misna\u001b[0m\u001b[1;33m(\u001b[0m\u001b[0mkey\u001b[0m\u001b[1;33m)\u001b[0m \u001b[1;32mand\u001b[0m \u001b[1;32mnot\u001b[0m \u001b[0mself\u001b[0m\u001b[1;33m.\u001b[0m\u001b[0mhasnans\u001b[0m\u001b[1;33m:\u001b[0m\u001b[1;33m\u001b[0m\u001b[1;33m\u001b[0m\u001b[0m\n",
      "\u001b[1;31mKeyError\u001b[0m: 'latiitude'"
     ]
    }
   ],
   "source": [
    "kolom_waktu = list_time_dalam_datetime\n",
    "kolom_latitude = list(data['latitude'])\n",
    "kolom_longitude = list(data['longitude'])\n",
    "kolom_kedalaman = list(data['depth'])\n",
    "kolom_magnitudo = list(data['magnitude'])"
   ]
  },
  {
   "cell_type": "code",
   "execution_count": 56,
   "id": "093e0699",
   "metadata": {},
   "outputs": [],
   "source": [
    "kolom_waktu = list_time_dalam_datetime\n",
    "kolom_latitude = list(data['latitude'])\n",
    "kolom_longitude = list(data['longitude'])\n",
    "kolom_kedalaman = list(data['depth'])\n",
    "kolom_magnitudo = list(data['magnitude'])"
   ]
  },
  {
   "cell_type": "code",
   "execution_count": 57,
   "id": "54ff95f3",
   "metadata": {},
   "outputs": [
    {
     "ename": "NameError",
     "evalue": "name 'katalog_dict' is not defined",
     "output_type": "error",
     "traceback": [
      "\u001b[1;31m---------------------------------------------------------------------------\u001b[0m",
      "\u001b[1;31mNameError\u001b[0m                                 Traceback (most recent call last)",
      "\u001b[1;32m~\\AppData\\Local\\Temp/ipykernel_16184/3739403716.py\u001b[0m in \u001b[0;36m<module>\u001b[1;34m\u001b[0m\n\u001b[0;32m      4\u001b[0m                     \u001b[0mkedalaman\u001b[0m\u001b[1;33m=\u001b[0m\u001b[0mkolom_kedalaman\u001b[0m\u001b[1;33m,\u001b[0m\u001b[1;33m\u001b[0m\u001b[1;33m\u001b[0m\u001b[0m\n\u001b[0;32m      5\u001b[0m                     magnitudo=kolom_magnitudo)\n\u001b[1;32m----> 6\u001b[1;33m \u001b[0mkatalog_dict\u001b[0m\u001b[1;33m\u001b[0m\u001b[1;33m\u001b[0m\u001b[0m\n\u001b[0m",
      "\u001b[1;31mNameError\u001b[0m: name 'katalog_dict' is not defined"
     ]
    }
   ],
   "source": [
    "katalog_Dict = dict(waktu=kolom_waktu,\n",
    "                    latitude=kolom_latitude,\n",
    "                    longitude=kolom_longitude,\n",
    "                    kedalaman=kolom_kedalaman,\n",
    "                    magnitudo=kolom_magnitudo)\n",
    "katalog_dict"
   ]
  },
  {
   "cell_type": "code",
   "execution_count": 58,
   "id": "85d26f1b",
   "metadata": {},
   "outputs": [
    {
     "data": {
      "text/plain": [
       "{'waktu': [datetime.datetime(2021, 1, 27, 18, 43, 24, 965000),\n",
       "  datetime.datetime(2021, 1, 25, 16, 4, 16, 363000),\n",
       "  datetime.datetime(2021, 1, 24, 20, 52, 8, 70000),\n",
       "  datetime.datetime(2021, 1, 24, 16, 52, 55, 221000),\n",
       "  datetime.datetime(2021, 1, 24, 2, 38, 50, 171000),\n",
       "  datetime.datetime(2021, 1, 21, 11, 55, 35, 955000),\n",
       "  datetime.datetime(2021, 1, 20, 14, 43, 48, 536000),\n",
       "  datetime.datetime(2021, 1, 20, 14, 19, 28, 193000),\n",
       "  datetime.datetime(2021, 1, 18, 13, 51, 39, 482000),\n",
       "  datetime.datetime(2021, 1, 18, 9, 29, 21, 771000),\n",
       "  datetime.datetime(2021, 1, 18, 4, 11, 17, 114000),\n",
       "  datetime.datetime(2021, 1, 16, 17, 42, 58, 908000),\n",
       "  datetime.datetime(2021, 1, 16, 10, 45, 50, 793000),\n",
       "  datetime.datetime(2021, 1, 15, 23, 32, 53, 689000),\n",
       "  datetime.datetime(2021, 1, 15, 12, 28, 53, 297000),\n",
       "  datetime.datetime(2021, 1, 15, 7, 40, 49, 939000),\n",
       "  datetime.datetime(2021, 1, 15, 5, 34, 38, 593000),\n",
       "  datetime.datetime(2021, 1, 15, 1, 7, 50, 643000),\n",
       "  datetime.datetime(2021, 1, 15, 0, 25, 26, 778000),\n",
       "  datetime.datetime(2021, 1, 15, 0, 13, 37, 564000),\n",
       "  datetime.datetime(2021, 1, 14, 22, 17, 34, 940000),\n",
       "  datetime.datetime(2021, 1, 14, 20, 46, 12, 410000),\n",
       "  datetime.datetime(2021, 1, 14, 20, 28, 7, 923000),\n",
       "  datetime.datetime(2021, 1, 14, 19, 59, 7, 736000),\n",
       "  datetime.datetime(2021, 1, 14, 19, 55, 26, 840000),\n",
       "  datetime.datetime(2021, 1, 14, 19, 31, 13, 655000),\n",
       "  datetime.datetime(2021, 1, 14, 19, 25, 24, 353000),\n",
       "  datetime.datetime(2021, 1, 14, 19, 11, 19, 488000),\n",
       "  datetime.datetime(2021, 1, 14, 19, 2, 1, 160000),\n",
       "  datetime.datetime(2021, 1, 14, 18, 55, 16, 447000),\n",
       "  datetime.datetime(2021, 1, 14, 18, 48, 52, 56000),\n",
       "  datetime.datetime(2021, 1, 14, 18, 41, 54, 53000),\n",
       "  datetime.datetime(2021, 1, 14, 18, 39, 57, 672000),\n",
       "  datetime.datetime(2021, 1, 14, 18, 28, 20, 239000),\n",
       "  datetime.datetime(2021, 1, 14, 18, 25, 39, 776000),\n",
       "  datetime.datetime(2021, 1, 14, 17, 22, 36, 118000),\n",
       "  datetime.datetime(2021, 1, 14, 17, 1, 7, 592000),\n",
       "  datetime.datetime(2021, 1, 14, 7, 33, 55, 830000),\n",
       "  datetime.datetime(2021, 1, 14, 6, 51, 34, 540000),\n",
       "  datetime.datetime(2021, 1, 14, 6, 38, 38, 373000),\n",
       "  datetime.datetime(2021, 1, 14, 6, 35, 50, 399000),\n",
       "  datetime.datetime(2021, 1, 11, 9, 2, 9, 451000)],\n",
       " 'latitude': [-2.97,\n",
       "  -3.01,\n",
       "  -2.94,\n",
       "  -3.0,\n",
       "  -2.95,\n",
       "  -2.9,\n",
       "  -2.89,\n",
       "  -2.39,\n",
       "  -2.99,\n",
       "  -2.94,\n",
       "  -2.93,\n",
       "  -2.92,\n",
       "  -2.9,\n",
       "  -2.92,\n",
       "  -2.89,\n",
       "  -2.9,\n",
       "  -2.95,\n",
       "  -2.92,\n",
       "  -2.96,\n",
       "  -2.87,\n",
       "  -2.89,\n",
       "  -2.91,\n",
       "  -2.89,\n",
       "  -2.96,\n",
       "  -2.9,\n",
       "  -3.02,\n",
       "  -2.92,\n",
       "  -2.93,\n",
       "  -2.94,\n",
       "  -3.01,\n",
       "  -2.95,\n",
       "  -2.89,\n",
       "  -3.03,\n",
       "  -2.97,\n",
       "  -2.94,\n",
       "  -2.92,\n",
       "  -2.94,\n",
       "  -2.99,\n",
       "  -2.95,\n",
       "  -2.97,\n",
       "  -3.01,\n",
       "  -2.86],\n",
       " 'longitude': [118.83,\n",
       "  118.8,\n",
       "  118.61,\n",
       "  118.8,\n",
       "  118.88,\n",
       "  118.91,\n",
       "  118.86,\n",
       "  119.5,\n",
       "  118.88,\n",
       "  118.88,\n",
       "  118.91,\n",
       "  119.03,\n",
       "  118.94,\n",
       "  118.94,\n",
       "  118.84,\n",
       "  118.86,\n",
       "  118.92,\n",
       "  118.95,\n",
       "  118.92,\n",
       "  118.88,\n",
       "  118.93,\n",
       "  118.84,\n",
       "  118.85,\n",
       "  118.91,\n",
       "  119.01,\n",
       "  118.94,\n",
       "  118.93,\n",
       "  118.93,\n",
       "  118.91,\n",
       "  118.94,\n",
       "  118.89,\n",
       "  118.88,\n",
       "  118.95,\n",
       "  118.94,\n",
       "  118.9,\n",
       "  118.9,\n",
       "  118.88,\n",
       "  118.88,\n",
       "  118.93,\n",
       "  118.89,\n",
       "  118.92,\n",
       "  119.48],\n",
       " 'kedalaman': [11,\n",
       "  47,\n",
       "  10,\n",
       "  35,\n",
       "  14,\n",
       "  10,\n",
       "  10,\n",
       "  10,\n",
       "  20,\n",
       "  14,\n",
       "  10,\n",
       "  13,\n",
       "  11,\n",
       "  10,\n",
       "  10,\n",
       "  24,\n",
       "  19,\n",
       "  14,\n",
       "  10,\n",
       "  21,\n",
       "  10,\n",
       "  10,\n",
       "  14,\n",
       "  10,\n",
       "  15,\n",
       "  23,\n",
       "  10,\n",
       "  10,\n",
       "  10,\n",
       "  19,\n",
       "  11,\n",
       "  10,\n",
       "  10,\n",
       "  21,\n",
       "  10,\n",
       "  10,\n",
       "  11,\n",
       "  10,\n",
       "  15,\n",
       "  10,\n",
       "  12,\n",
       "  10],\n",
       " 'magnitudo': [3.7,\n",
       "  2.8,\n",
       "  2.6,\n",
       "  2.4,\n",
       "  3.1,\n",
       "  4.0,\n",
       "  2.3,\n",
       "  3.8,\n",
       "  3.5,\n",
       "  3.5,\n",
       "  3.7,\n",
       "  2.6,\n",
       "  3.4,\n",
       "  4.7,\n",
       "  3.5,\n",
       "  3.8,\n",
       "  2.7,\n",
       "  2.6,\n",
       "  4.3,\n",
       "  2.7,\n",
       "  3.2,\n",
       "  3.4,\n",
       "  3.4,\n",
       "  3.2,\n",
       "  3.2,\n",
       "  2.6,\n",
       "  3.2,\n",
       "  3.5,\n",
       "  3.1,\n",
       "  3.0,\n",
       "  3.9,\n",
       "  4.1,\n",
       "  4.1,\n",
       "  6.2,\n",
       "  3.1,\n",
       "  2.8,\n",
       "  2.9,\n",
       "  3.8,\n",
       "  2.8,\n",
       "  4.9,\n",
       "  5.7,\n",
       "  2.6]}"
      ]
     },
     "execution_count": 58,
     "metadata": {},
     "output_type": "execute_result"
    }
   ],
   "source": [
    "katalog_dict = dict(waktu=kolom_waktu,\n",
    "                    latitude=kolom_latitude,\n",
    "                    longitude=kolom_longitude,\n",
    "                    kedalaman=kolom_kedalaman,\n",
    "                    magnitudo=kolom_magnitudo)\n",
    "katalog_dict"
   ]
  },
  {
   "cell_type": "code",
   "execution_count": 59,
   "id": "56ce4e23",
   "metadata": {},
   "outputs": [
    {
     "data": {
      "text/plain": [
       "[datetime.datetime(2021, 1, 27, 18, 43, 24, 965000),\n",
       " datetime.datetime(2021, 1, 25, 16, 4, 16, 363000),\n",
       " datetime.datetime(2021, 1, 24, 20, 52, 8, 70000),\n",
       " datetime.datetime(2021, 1, 24, 16, 52, 55, 221000),\n",
       " datetime.datetime(2021, 1, 24, 2, 38, 50, 171000),\n",
       " datetime.datetime(2021, 1, 21, 11, 55, 35, 955000),\n",
       " datetime.datetime(2021, 1, 20, 14, 43, 48, 536000),\n",
       " datetime.datetime(2021, 1, 20, 14, 19, 28, 193000),\n",
       " datetime.datetime(2021, 1, 18, 13, 51, 39, 482000),\n",
       " datetime.datetime(2021, 1, 18, 9, 29, 21, 771000)]"
      ]
     },
     "execution_count": 59,
     "metadata": {},
     "output_type": "execute_result"
    }
   ],
   "source": [
    "katalog_dict['waktu'][:10]"
   ]
  },
  {
   "cell_type": "code",
   "execution_count": 60,
   "id": "12b5c14f",
   "metadata": {},
   "outputs": [
    {
     "data": {
      "text/plain": [
       "dict_keys(['waktu', 'latitude', 'longitude', 'kedalaman', 'magnitudo'])"
      ]
     },
     "execution_count": 60,
     "metadata": {},
     "output_type": "execute_result"
    }
   ],
   "source": [
    "katalog_dict.keys()"
   ]
  },
  {
   "cell_type": "code",
   "execution_count": 61,
   "id": "780d6dad",
   "metadata": {},
   "outputs": [
    {
     "ename": "SyntaxError",
     "evalue": "invalid syntax (Temp/ipykernel_16184/1191759484.py, line 24)",
     "output_type": "error",
     "traceback": [
      "\u001b[1;36m  File \u001b[1;32m\"C:\\Users\\Asus\\AppData\\Local\\Temp/ipykernel_16184/1191759484.py\"\u001b[1;36m, line \u001b[1;32m24\u001b[0m\n\u001b[1;33m    waktu _hasil_filter.append(t)\u001b[0m\n\u001b[1;37m          ^\u001b[0m\n\u001b[1;31mSyntaxError\u001b[0m\u001b[1;31m:\u001b[0m invalid syntax\n"
     ]
    }
   ],
   "source": [
    "tanggal_awal = datetime.datetime(2021,1,13) #13 Januari 2021\n",
    "tanggal_akhir = datetime.datetime(2021,1,15) #15 Januari 2021\n",
    "\n",
    "#katalog_hasil_filter\n",
    "waktu_hasil_filter=[]\n",
    "latitude_hasil_filter=[]\n",
    "longitude_hasil_filter=[]\n",
    "kedalaman_hasil_filter=[]\n",
    "magnitudo_hasil_filter=[]\n",
    "\n",
    "#memisahkan_masing-masing_kolom_kembali\n",
    "waktu = katalog_dict['waktu']\n",
    "latitude = katalog_dict['latitude']\n",
    "longitude = katalog_dict['longitude']\n",
    "kedalaman = katalog_dict['kedalaman']\n",
    "magnitudo = katalog_dict['magnitudo']\n",
    "\n",
    "#mengumpulkan kolom menjadi satu 'zip'\n",
    "katalog = zip(waktu, latitude, longitude, kedalaman, magnitudo)\n",
    "\n",
    "for t, lat, lon, dep, mag in katalog:\n",
    "    #jika waktu lebih dari tanggal awal dan kurang dari tanggal akhir\n",
    "    if t>tanggal_awal and t<tanggal_akhir:\n",
    "        waktu _hasil_filter.append(t)\n",
    "        latitude_hasil_filter.append(lat)\n",
    "        longitude_hasil_filter.append(long)\n",
    "        kedalaman_hasil_filter.append(dep)\n",
    "        magnitudo_hasil_filter.append(mag)\n"
   ]
  },
  {
   "cell_type": "code",
   "execution_count": 78,
   "id": "a6762849",
   "metadata": {},
   "outputs": [],
   "source": [
    "tanggal_awal = datetime.datetime(2021,1,14) #14 Januari 2021\n",
    "tanggal_akhir = datetime.datetime(2021,1,15) #15 Januari 2021\n",
    "\n",
    "#katalog_hasil_filter\n",
    "waktu_hasil_filter=[]\n",
    "latitude_hasil_filter=[]\n",
    "longitude_hasil_filter=[]\n",
    "kedalaman_hasil_filter=[]\n",
    "magnitudo_hasil_filter=[]\n",
    "\n",
    "#memisahkan_masing-masing_kolom_kembali\n",
    "waktu = katalog_dict['waktu']\n",
    "latitude = katalog_dict['latitude']\n",
    "longitude = katalog_dict['longitude']\n",
    "kedalaman = katalog_dict['kedalaman']\n",
    "magnitudo = katalog_dict['magnitudo']\n",
    "\n",
    "#mengumpulkan kolom menjadi satu 'zip'\n",
    "katalog = zip(waktu, latitude, longitude, kedalaman, magnitudo)\n",
    "\n",
    "for t, lat, lon, dep, mag in katalog:\n",
    "    #jika waktu lebih dari tanggal awal dan kurang dari tanggal akhir\n",
    "    if t>tanggal_awal and t<tanggal_akhir:\n",
    "        waktu_hasil_filter.append(t)\n",
    "        latitude_hasil_filter.append(lat)\n",
    "        longitude_hasil_filter.append(lon)\n",
    "        kedalaman_hasil_filter.append(dep)\n",
    "        magnitudo_hasil_filter.append(mag)\n"
   ]
  },
  {
   "cell_type": "code",
   "execution_count": 64,
   "id": "ce501d78",
   "metadata": {},
   "outputs": [
    {
     "name": "stdout",
     "output_type": "stream",
     "text": [
      "Jumlah semua data 42\n",
      "Jumlah data terfilter 21\n"
     ]
    }
   ],
   "source": [
    "print(\"Jumlah semua data\", len(waktu))\n",
    "print(\"Jumlah data terfilter\", len(waktu_hasil_filter))"
   ]
  },
  {
   "cell_type": "code",
   "execution_count": 79,
   "id": "2210d93f",
   "metadata": {},
   "outputs": [
    {
     "data": {
      "image/png": "[encoded data removed]",
      "text/plain": [
       "<Figure size 432x288 with 1 Axes>"
      ]
     },
     "metadata": {
      "needs_background": "light"
     },
     "output_type": "display_data"
    }
   ],
   "source": [
    "import matplotlib.pyplot as plt\n",
    "import matplotlib.dates as mdates\n",
    "\n",
    "#mendefisinisikan list waktu dan magnitudo\n",
    "waktu_hasil_filter = waktu_hasil_filter\n",
    "magnitudo_hasil_filter = magnitudo_hasil_filter\n",
    "\n",
    "#membuat plot\n",
    "fig,ax= plt.subplots()\n",
    "ax.scatter(waktu, magnitudo, color=\"green\", label=\"awal\")\n",
    "ax.scatter(waktu_hasil_filter, magnitudo_hasil_filter, color=\"yellow\", label=\"hasil filter\")\n",
    "ax.set_title(\"Grafik Plotting Magnitudo terhadap Waktu \\nKejadian Gempa Mamuju \")\n",
    "\n",
    "ax.set_xlabel('Waktu')\n",
    "ax.set_ylabel('Magnitudo(M)')\n",
    "ax.xaxis.set_major_formatter(mdates.DateFormatter(\"%Y-%m-%d\"))          \n",
    "ax.axvline(x=tanggal_awal, linestyle= \"--\", color =\"grey\")\n",
    "ax.axvline(x=tanggal_akhir, linestyle=\"--\", color =\"grey\")\n",
    "                             \n",
    "plt.xticks(rotation=65)\n",
    "plt.legend()\n",
    "plt.grid()\n",
    "                        \n",
    "                            "
   ]
  },
  {
   "cell_type": "code",
   "execution_count": 2,
   "id": "e26b879b",
   "metadata": {},
   "outputs": [],
   "source": [
    "def volume_kubus(panjang_sisi):\n",
    "    \"\"\"Fungsi untuk menghitung volume kubus\n",
    "    \n",
    "    Parameters:\n",
    "    panjang_sisi : float\n",
    "        Panjang sisi kubus\n",
    "        \n",
    "    Returns:\n",
    "    volume : float\n",
    "        Volume kubus\n",
    "    \"\"\"\n",
    "    volume = float(panjang_sisi)**3\n",
    "    return volume"
   ]
  },
  {
   "cell_type": "code",
   "execution_count": 3,
   "id": "24708543",
   "metadata": {},
   "outputs": [
    {
     "name": "stdout",
     "output_type": "stream",
     "text": [
      "Help on function volume_kubus in module __main__:\n",
      "\n",
      "volume_kubus(panjang_sisi)\n",
      "    Fungsi untuk menghitung volume kubus\n",
      "    \n",
      "    Parameters:\n",
      "    panjang_sisi : float\n",
      "        Panjang sisi kubus\n",
      "        \n",
      "    Returns:\n",
      "    volume : float\n",
      "        Volume kubus\n",
      "\n"
     ]
    }
   ],
   "source": [
    "help(volume_kubus)"
   ]
  },
  {
   "cell_type": "code",
   "execution_count": 4,
   "id": "89a675f9",
   "metadata": {},
   "outputs": [
    {
     "data": {
      "text/plain": [
       "27.0"
      ]
     },
     "execution_count": 4,
     "metadata": {},
     "output_type": "execute_result"
    }
   ],
   "source": [
    "volume_kubus(3)"
   ]
  },
  {
   "cell_type": "code",
   "execution_count": null,
   "id": "2899d628",
   "metadata": {},
   "outputs": [],
   "source": [
    "def filter_katalog_waktu(waktu_awal, waktu_akhir,waktu,longitude, \\ \n",
    "                        latitude, kedalaman, magnitudo):\n",
    "    \n",
    "    #katalog hasil_filter\n",
    "    waktu_hasil_filter =[]\n",
    "    latitude_hasil_filter =[]\n",
    "    longitude_hasil_filter =[]\n",
    "    kedalaman_hasil_filter =[]\n",
    "    magnitudo_hasil_filter =[]\n",
    "    \n",
    "    #mengumpulkan kolom menjadi satu 'zip'\n",
    "    katalog =zip(waktu, latitude, longitude, kedalaman, magnitudo)\n",
    "    for t,lat,lon,dep,mag in katalog:\n",
    "        if t>waktu_awal and t<waktu_akhir:\n",
    "            waktu_hasil_filter.append(t)\n",
    "            latitude_hasil_filter.append(lat)\n",
    "            longitude_hasil_filter.append(lon)\n",
    "            kedalaman_hasil_filter.append(dep)\n",
    "            magnitudo_hasil_filter.append(mag)\n",
    "            \n",
    "    print(\"Jumlah data\",len (waktu))\n",
    "    print(\"Jumlah data difilter\",len(waktu_hasil_filter))\n",
    "    return waktu_hasil_filter, latitude_hasil_filter, longitude_hasil_filter, \\\n",
    "\n",
    "\n",
    "           kedalaman_hasil_filter,  magnitudo_hasil_filter"
   ]
  },
  {
   "cell_type": "code",
   "execution_count": 5,
   "id": "004e1c1b",
   "metadata": {},
   "outputs": [
    {
     "ename": "NameError",
     "evalue": "name 'filter_katalog_waktu' is not defined",
     "output_type": "error",
     "traceback": [
      "\u001b[1;31m---------------------------------------------------------------------------\u001b[0m",
      "\u001b[1;31mNameError\u001b[0m                                 Traceback (most recent call last)",
      "\u001b[1;32m~\\AppData\\Local\\Temp/ipykernel_4000/4166320699.py\u001b[0m in \u001b[0;36m<module>\u001b[1;34m\u001b[0m\n\u001b[1;32m----> 1\u001b[1;33m \u001b[0mhelp\u001b[0m\u001b[1;33m(\u001b[0m\u001b[0mfilter_katalog_waktu\u001b[0m\u001b[1;33m)\u001b[0m\u001b[1;33m\u001b[0m\u001b[1;33m\u001b[0m\u001b[0m\n\u001b[0m",
      "\u001b[1;31mNameError\u001b[0m: name 'filter_katalog_waktu' is not defined"
     ]
    }
   ],
   "source": [
    "help(filter_katalog_waktu)"
   ]
  },
  {
   "cell_type": "code",
   "execution_count": 8,
   "id": "b3c7c17b",
   "metadata": {
    "scrolled": true
   },
   "outputs": [],
   "source": [
    "def filter_katalog_waktu(waktu_awal, waktu_akhir,waktu,longitude, latitude, kedalaman, magnitudo):\n",
    "    \n",
    "    #katalog hasil_filter\n",
    "    waktu_hasil_filter =[]\n",
    "    latitude_hasil_filter =[]\n",
    "    longitude_hasil_filter =[]\n",
    "    kedalaman_hasil_filter =[]\n",
    "    magnitudo_hasil_filter =[]\n",
    "    \n",
    "    #mengumpulkan kolom menjadi satu 'zip'\n",
    "    katalog =zip(waktu, latitude, longitude, kedalaman, magnitudo)\n",
    "    for t,lat,lon,dep,mag in katalog:\n",
    "        if t>waktu_awal and t<waktu_akhir:\n",
    "            waktu_hasil_filter.append(t)\n",
    "            latitude_hasil_filter.append(lat)\n",
    "            longitude_hasil_filter.append(lon)\n",
    "            kedalaman_hasil_filter.append(dep)\n",
    "            magnitudo_hasil_filter.append(mag)\n",
    "            \n",
    "    print(\"Jumlah data\",len (waktu))\n",
    "    print(\"Jumlah data difilter\",len(waktu_hasil_filter))\n",
    "    return waktu_hasil_filter, latitude_hasil_filter, longitude_hasil_filter, kedalaman_hasil_filter,  magnitudo_hasil_filter"
   ]
  },
  {
   "cell_type": "code",
   "execution_count": 9,
   "id": "00fb642d",
   "metadata": {},
   "outputs": [
    {
     "name": "stdout",
     "output_type": "stream",
     "text": [
      "Help on function filter_katalog_waktu in module __main__:\n",
      "\n",
      "filter_katalog_waktu(waktu_awal, waktu_akhir, waktu, longitude, latitude, kedalaman, magnitudo)\n",
      "\n"
     ]
    }
   ],
   "source": [
    "help(filter_katalog_waktu)"
   ]
  },
  {
   "cell_type": "code",
   "execution_count": 10,
   "id": "8df0f7ef",
   "metadata": {},
   "outputs": [
    {
     "ename": "NameError",
     "evalue": "name 'datetime' is not defined",
     "output_type": "error",
     "traceback": [
      "\u001b[1;31m---------------------------------------------------------------------------\u001b[0m",
      "\u001b[1;31mNameError\u001b[0m                                 Traceback (most recent call last)",
      "\u001b[1;32m~\\AppData\\Local\\Temp/ipykernel_4000/38675688.py\u001b[0m in \u001b[0;36m<module>\u001b[1;34m\u001b[0m\n\u001b[1;32m----> 1\u001b[1;33m \u001b[0mtanggal_awal\u001b[0m \u001b[1;33m=\u001b[0m \u001b[0mdatetime\u001b[0m\u001b[1;33m.\u001b[0m\u001b[0mdatetime\u001b[0m\u001b[1;33m(\u001b[0m\u001b[1;36m2021\u001b[0m\u001b[1;33m,\u001b[0m\u001b[1;36m1\u001b[0m\u001b[1;33m,\u001b[0m\u001b[1;36m14\u001b[0m\u001b[1;33m)\u001b[0m\u001b[1;33m\u001b[0m\u001b[1;33m\u001b[0m\u001b[0m\n\u001b[0m",
      "\u001b[1;31mNameError\u001b[0m: name 'datetime' is not defined"
     ]
    }
   ],
   "source": [
    "tanggal_awal = datetime.datetime(2021,1,14)"
   ]
  },
  {
   "cell_type": "code",
   "execution_count": 11,
   "id": "903e3804",
   "metadata": {},
   "outputs": [
    {
     "ename": "NameError",
     "evalue": "name 'datetime' is not defined",
     "output_type": "error",
     "traceback": [
      "\u001b[1;31m---------------------------------------------------------------------------\u001b[0m",
      "\u001b[1;31mNameError\u001b[0m                                 Traceback (most recent call last)",
      "\u001b[1;32m~\\AppData\\Local\\Temp/ipykernel_4000/2408819751.py\u001b[0m in \u001b[0;36m<module>\u001b[1;34m\u001b[0m\n\u001b[1;32m----> 1\u001b[1;33m \u001b[0mtanggal_awal\u001b[0m \u001b[1;33m=\u001b[0m \u001b[0mdatetime\u001b[0m\u001b[1;33m.\u001b[0m\u001b[0mdatetime\u001b[0m\u001b[1;33m(\u001b[0m\u001b[1;36m2021\u001b[0m\u001b[1;33m,\u001b[0m\u001b[1;36m1\u001b[0m\u001b[1;33m,\u001b[0m\u001b[1;36m14\u001b[0m\u001b[1;33m)\u001b[0m\u001b[1;33m\u001b[0m\u001b[1;33m\u001b[0m\u001b[0m\n\u001b[0m\u001b[0;32m      2\u001b[0m \u001b[0mtanggal_akhir\u001b[0m \u001b[1;33m=\u001b[0m \u001b[0mdatetime\u001b[0m\u001b[1;33m.\u001b[0m\u001b[0mdatetime\u001b[0m\u001b[1;33m(\u001b[0m\u001b[1;36m2021\u001b[0m\u001b[1;33m,\u001b[0m\u001b[1;36m1\u001b[0m\u001b[1;33m,\u001b[0m\u001b[1;36m15\u001b[0m\u001b[1;33m)\u001b[0m\u001b[1;33m\u001b[0m\u001b[1;33m\u001b[0m\u001b[0m\n\u001b[0;32m      3\u001b[0m \u001b[0mhasil_filter\u001b[0m \u001b[1;33m=\u001b[0m \u001b[0mfilter_katalog_waktu\u001b[0m\u001b[1;33m(\u001b[0m\u001b[0mtanggal_awal\u001b[0m\u001b[1;33m,\u001b[0m \u001b[0mtanggal_akhir\u001b[0m\u001b[1;33m,\u001b[0m \u001b[0mwaktu\u001b[0m\u001b[1;33m,\u001b[0m \u001b[0mlatitude\u001b[0m\u001b[1;33m,\u001b[0m \u001b[0mlongitude\u001b[0m\u001b[1;33m,\u001b[0m \u001b[0mkedalaman\u001b[0m\u001b[1;33m,\u001b[0m \u001b[0mmagnitudo\u001b[0m\u001b[1;33m)\u001b[0m\u001b[1;33m\u001b[0m\u001b[1;33m\u001b[0m\u001b[0m\n\u001b[0;32m      4\u001b[0m \u001b[0mhasil_filter\u001b[0m\u001b[1;33m\u001b[0m\u001b[1;33m\u001b[0m\u001b[0m\n",
      "\u001b[1;31mNameError\u001b[0m: name 'datetime' is not defined"
     ]
    }
   ],
   "source": [
    "tanggal_awal = datetime.datetime(2021,1,14)\n",
    "tanggal_akhir = datetime.datetime(2021,1,15)\n",
    "hasil_filter = filter_katalog_waktu(tanggal_awal, tanggal_akhir, waktu, latitude, longitude, kedalaman, magnitudo)\n",
    "hasil_filter"
   ]
  },
  {
   "cell_type": "code",
   "execution_count": 12,
   "id": "ee81e101",
   "metadata": {},
   "outputs": [],
   "source": [
    "import datetime"
   ]
  },
  {
   "cell_type": "code",
   "execution_count": 13,
   "id": "1bd5902a",
   "metadata": {},
   "outputs": [],
   "source": [
    "def filter_katalog_waktu(waktu_awal, waktu_akhir,waktu,longitude, latitude, kedalaman, magnitudo):\n",
    "    \n",
    "    #katalog hasil_filter\n",
    "    waktu_hasil_filter =[]\n",
    "    latitude_hasil_filter =[]\n",
    "    longitude_hasil_filter =[]\n",
    "    kedalaman_hasil_filter =[]\n",
    "    magnitudo_hasil_filter =[]\n",
    "    \n",
    "    #mengumpulkan kolom menjadi satu 'zip'\n",
    "    katalog =zip(waktu, latitude, longitude, kedalaman, magnitudo)\n",
    "    for t,lat,lon,dep,mag in katalog:\n",
    "        if t>waktu_awal and t<waktu_akhir:\n",
    "            waktu_hasil_filter.append(t)\n",
    "            latitude_hasil_filter.append(lat)\n",
    "            longitude_hasil_filter.append(lon)\n",
    "            kedalaman_hasil_filter.append(dep)\n",
    "            magnitudo_hasil_filter.append(mag)\n",
    "            \n",
    "    print(\"Jumlah data\",len (waktu))\n",
    "    print(\"Jumlah data difilter\",len(waktu_hasil_filter))\n",
    "    return waktu_hasil_filter, latitude_hasil_filter, longitude_hasil_filter, kedalaman_hasil_filter,  magnitudo_hasil_filter"
   ]
  },
  {
   "cell_type": "code",
   "execution_count": 15,
   "id": "c726aa62",
   "metadata": {},
   "outputs": [
    {
     "name": "stdout",
     "output_type": "stream",
     "text": [
      "Help on function filter_katalog_waktu in module __main__:\n",
      "\n",
      "filter_katalog_waktu(waktu_awal, waktu_akhir, waktu, longitude, latitude, kedalaman, magnitudo)\n",
      "\n"
     ]
    }
   ],
   "source": [
    "help(filter_katalog_waktu)"
   ]
  },
  {
   "cell_type": "code",
   "execution_count": 21,
   "id": "fd1739a6",
   "metadata": {},
   "outputs": [
    {
     "ename": "NameError",
     "evalue": "name 'waktu' is not defined",
     "output_type": "error",
     "traceback": [
      "\u001b[1;31m---------------------------------------------------------------------------\u001b[0m",
      "\u001b[1;31mNameError\u001b[0m                                 Traceback (most recent call last)",
      "\u001b[1;32m~\\AppData\\Local\\Temp/ipykernel_4000/4092720166.py\u001b[0m in \u001b[0;36m<module>\u001b[1;34m\u001b[0m\n\u001b[0;32m      1\u001b[0m \u001b[0mtanggal_awal\u001b[0m \u001b[1;33m=\u001b[0m \u001b[0mdatetime\u001b[0m\u001b[1;33m.\u001b[0m\u001b[0mdatetime\u001b[0m\u001b[1;33m(\u001b[0m\u001b[1;36m2021\u001b[0m\u001b[1;33m,\u001b[0m\u001b[1;36m1\u001b[0m\u001b[1;33m,\u001b[0m\u001b[1;36m14\u001b[0m\u001b[1;33m)\u001b[0m\u001b[1;33m\u001b[0m\u001b[1;33m\u001b[0m\u001b[0m\n\u001b[0;32m      2\u001b[0m \u001b[0mtanggal_akhir\u001b[0m \u001b[1;33m=\u001b[0m \u001b[0mdatetime\u001b[0m\u001b[1;33m.\u001b[0m\u001b[0mdatetime\u001b[0m\u001b[1;33m(\u001b[0m\u001b[1;36m2021\u001b[0m\u001b[1;33m,\u001b[0m\u001b[1;36m1\u001b[0m\u001b[1;33m,\u001b[0m\u001b[1;36m15\u001b[0m\u001b[1;33m)\u001b[0m\u001b[1;33m\u001b[0m\u001b[1;33m\u001b[0m\u001b[0m\n\u001b[1;32m----> 3\u001b[1;33m \u001b[0mhasil_filter\u001b[0m \u001b[1;33m=\u001b[0m \u001b[0mfilter_katalog_waktu\u001b[0m\u001b[1;33m(\u001b[0m\u001b[0mtanggal_awal\u001b[0m\u001b[1;33m,\u001b[0m \u001b[0mtanggal_akhir\u001b[0m\u001b[1;33m,\u001b[0m \u001b[0mwaktu\u001b[0m\u001b[1;33m,\u001b[0m \u001b[0mlongitude\u001b[0m\u001b[1;33m,\u001b[0m \u001b[0mlatitude\u001b[0m\u001b[1;33m,\u001b[0m \u001b[0mkedalaman\u001b[0m\u001b[1;33m,\u001b[0m \u001b[0mmagnitudo\u001b[0m\u001b[1;33m)\u001b[0m\u001b[1;33m\u001b[0m\u001b[1;33m\u001b[0m\u001b[0m\n\u001b[0m\u001b[0;32m      4\u001b[0m \u001b[0mhasil_filter\u001b[0m\u001b[1;33m\u001b[0m\u001b[1;33m\u001b[0m\u001b[0m\n",
      "\u001b[1;31mNameError\u001b[0m: name 'waktu' is not defined"
     ]
    }
   ],
   "source": [
    "tanggal_awal = datetime.datetime(2021,1,14)\n",
    "tanggal_akhir = datetime.datetime(2021,1,15)\n",
    "hasil_filter = filter_katalog_waktu(tanggal_awal, tanggal_akhir, waktu, longitude, latitude, kedalaman, magnitudo)\n",
    "hasil_filter"
   ]
  },
  {
   "cell_type": "code",
   "execution_count": 18,
   "id": "90f1e90a",
   "metadata": {},
   "outputs": [
    {
     "ename": "NameError",
     "evalue": "name 'longitude' is not defined",
     "output_type": "error",
     "traceback": [
      "\u001b[1;31m---------------------------------------------------------------------------\u001b[0m",
      "\u001b[1;31mNameError\u001b[0m                                 Traceback (most recent call last)",
      "\u001b[1;32m~\\AppData\\Local\\Temp/ipykernel_4000/1567724934.py\u001b[0m in \u001b[0;36m<module>\u001b[1;34m\u001b[0m\n\u001b[0;32m      2\u001b[0m \u001b[0mtanggal_akhir\u001b[0m \u001b[1;33m=\u001b[0m \u001b[0mdatetime\u001b[0m\u001b[1;33m.\u001b[0m\u001b[0mdatetime\u001b[0m\u001b[1;33m(\u001b[0m\u001b[1;36m2021\u001b[0m\u001b[1;33m,\u001b[0m\u001b[1;36m1\u001b[0m\u001b[1;33m,\u001b[0m\u001b[1;36m15\u001b[0m\u001b[1;33m)\u001b[0m \u001b[1;31m# 14 Januari 2021\u001b[0m\u001b[1;33m\u001b[0m\u001b[1;33m\u001b[0m\u001b[0m\n\u001b[0;32m      3\u001b[0m \u001b[1;33m\u001b[0m\u001b[0m\n\u001b[1;32m----> 4\u001b[1;33m hasil_filter = filter_katalog_waktu(tanggal_awal, tanggal_akhir, longitude, latitude, \\\n\u001b[0m\u001b[0;32m      5\u001b[0m                                     kedalaman, magnitudo)\n\u001b[0;32m      6\u001b[0m \u001b[1;33m\u001b[0m\u001b[0m\n",
      "\u001b[1;31mNameError\u001b[0m: name 'longitude' is not defined"
     ]
    }
   ],
   "source": [
    "tanggal_awal = datetime.datetime(2021,1,14) # 12 Januari 2021\n",
    "tanggal_akhir = datetime.datetime(2021,1,15) # 14 Januari 2021\n",
    "\n",
    "hasil_filter = filter_katalog_waktu(tanggal_awal, tanggal_akhir, longitude, latitude, \\\n",
    "                                    kedalaman, magnitudo)\n",
    "\n",
    "hasil_filter"
   ]
  },
  {
   "cell_type": "code",
   "execution_count": 22,
   "id": "483e0c07",
   "metadata": {},
   "outputs": [],
   "source": [
    "def filter_katalog_waktu(waktu_awal, waktu_akhir, waktu, longitude, \\\n",
    "                         latitude, kedalaman, magnitudo):\n",
    "    \"\"\"Fungsi untuk memfilter katalog berdasarkan waktu\n",
    "    \n",
    "    Parameters:\n",
    "    waktu_awal : datetime.datetime\n",
    "        Waktu awal untuk proses filter\n",
    "    waktu_akhir : datetime.datetime\n",
    "        Waktu akhir untuk proses filter\n",
    "    waktu : list\n",
    "        List yang berisi waktu kejadian\n",
    "    longitude : list\n",
    "        List yang berisi longitude\n",
    "    latitude : list\n",
    "        List yang berisi latitude\n",
    "    kedalaman : list\n",
    "        List yang berisi kedalaman\n",
    "    magnitudo : list\n",
    "        List yang berisi magnitudo\n",
    "    \n",
    "        \n",
    "    Returns:\n",
    "    waktu_hasil_filter : list\n",
    "        List yang berisi waktu kejadian hasil filter\n",
    "    longitude_hasil_filter : list\n",
    "        List yang berisi longitude hasil filter\n",
    "    latitude_hasil_filter : list\n",
    "        List yang berisi latitude hasil filter\n",
    "    kedalaman_hasil_filter : list\n",
    "        List yang berisi kedalaman hasil filter\n",
    "    magnitudo_hasil_filter : list\n",
    "        List yang berisi magnitudo hasil filter\n",
    "    \"\"\" \n",
    "        \n",
    "    #katalog hasil_filter\n",
    "    waktu_hasil_filter = []\n",
    "    longitude_hasil_filter = []\n",
    "    latitude_hasil_filter = []\n",
    "    kedalaman_hasil_filter = []\n",
    "    magnitudo_hasil_filter = []\n",
    "\n",
    "    # mengumpulkan kolom menjadi satu `zip`\n",
    "    katalog = zip(waktu, latitude, longitude, kedalaman, magnitudo)\n",
    "\n",
    "    for t,lat,lon,ked,mag in katalog:\n",
    "        # jika waktu lebih dari tanggal awal dan kurang dari tanggal akhir\n",
    "        if t>waktu_awal and t<waktu_akhir:\n",
    "            waktu_hasil_filter.append(t)\n",
    "            longitude_hasil_filter.append(lon)\n",
    "            latitude_hasil_filter.append(lat)\n",
    "            kedalaman_hasil_filter.append(ked)\n",
    "            magnitudo_hasil_filter.append(mag)\n",
    "    \n",
    "    print(\"Semua data\",len(waktu))\n",
    "    print(\"Data hasil_filter\",len(waktu_hasil_filter))\n",
    "    return waktu_hasil_filter, longitude_hasil_filter, latitude_hasil_filter, \\\n",
    "            kedalaman_hasil_filter, magnitudo_hasil_filter"
   ]
  },
  {
   "cell_type": "code",
   "execution_count": 23,
   "id": "406f935c",
   "metadata": {},
   "outputs": [
    {
     "name": "stdout",
     "output_type": "stream",
     "text": [
      "Help on function filter_katalog_waktu in module __main__:\n",
      "\n",
      "filter_katalog_waktu(waktu_awal, waktu_akhir, waktu, longitude, latitude, kedalaman, magnitudo)\n",
      "    Fungsi untuk memfilter katalog berdasarkan waktu\n",
      "    \n",
      "    Parameters:\n",
      "    waktu_awal : datetime.datetime\n",
      "        Waktu awal untuk proses filter\n",
      "    waktu_akhir : datetime.datetime\n",
      "        Waktu akhir untuk proses filter\n",
      "    waktu : list\n",
      "        List yang berisi waktu kejadian\n",
      "    longitude : list\n",
      "        List yang berisi longitude\n",
      "    latitude : list\n",
      "        List yang berisi latitude\n",
      "    kedalaman : list\n",
      "        List yang berisi kedalaman\n",
      "    magnitudo : list\n",
      "        List yang berisi magnitudo\n",
      "    \n",
      "        \n",
      "    Returns:\n",
      "    waktu_hasil_filter : list\n",
      "        List yang berisi waktu kejadian hasil filter\n",
      "    longitude_hasil_filter : list\n",
      "        List yang berisi longitude hasil filter\n",
      "    latitude_hasil_filter : list\n",
      "        List yang berisi latitude hasil filter\n",
      "    kedalaman_hasil_filter : list\n",
      "        List yang berisi kedalaman hasil filter\n",
      "    magnitudo_hasil_filter : list\n",
      "        List yang berisi magnitudo hasil filter\n",
      "\n"
     ]
    }
   ],
   "source": [
    "help(filter_katalog_waktu)"
   ]
  },
  {
   "cell_type": "code",
   "execution_count": 24,
   "id": "6d99468a",
   "metadata": {},
   "outputs": [
    {
     "ename": "NameError",
     "evalue": "name 'waktu' is not defined",
     "output_type": "error",
     "traceback": [
      "\u001b[1;31m---------------------------------------------------------------------------\u001b[0m",
      "\u001b[1;31mNameError\u001b[0m                                 Traceback (most recent call last)",
      "\u001b[1;32m~\\AppData\\Local\\Temp/ipykernel_4000/3952822560.py\u001b[0m in \u001b[0;36m<module>\u001b[1;34m\u001b[0m\n\u001b[0;32m      2\u001b[0m \u001b[0mtanggal_akhir\u001b[0m \u001b[1;33m=\u001b[0m \u001b[0mdatetime\u001b[0m\u001b[1;33m.\u001b[0m\u001b[0mdatetime\u001b[0m\u001b[1;33m(\u001b[0m\u001b[1;36m2021\u001b[0m\u001b[1;33m,\u001b[0m\u001b[1;36m1\u001b[0m\u001b[1;33m,\u001b[0m\u001b[1;36m15\u001b[0m\u001b[1;33m)\u001b[0m \u001b[1;31m# 15 Januari 2021\u001b[0m\u001b[1;33m\u001b[0m\u001b[1;33m\u001b[0m\u001b[0m\n\u001b[0;32m      3\u001b[0m \u001b[1;33m\u001b[0m\u001b[0m\n\u001b[1;32m----> 4\u001b[1;33m hasil_filter = filter_katalog_waktu(tanggal_awal, tanggal_akhir, waktu, longitude, latitude, \\\n\u001b[0m\u001b[0;32m      5\u001b[0m                                     kedalaman, magnitudo)\n\u001b[0;32m      6\u001b[0m \u001b[1;33m\u001b[0m\u001b[0m\n",
      "\u001b[1;31mNameError\u001b[0m: name 'waktu' is not defined"
     ]
    }
   ],
   "source": [
    "tanggal_awal = datetime.datetime(2021,1,14) # 14 Januari 2021\n",
    "tanggal_akhir = datetime.datetime(2021,1,15) # 15 Januari 2021\n",
    "\n",
    "hasil_filter = filter_katalog_waktu(tanggal_awal, tanggal_akhir, waktu, longitude, latitude, \\\n",
    "                                    kedalaman, magnitudo)\n",
    "\n",
    "hasil_filter"
   ]
  },
  {
   "cell_type": "code",
   "execution_count": 25,
   "id": "9b3c87a6",
   "metadata": {},
   "outputs": [
    {
     "ename": "NameError",
     "evalue": "name 'waktu' is not defined",
     "output_type": "error",
     "traceback": [
      "\u001b[1;31m---------------------------------------------------------------------------\u001b[0m",
      "\u001b[1;31mNameError\u001b[0m                                 Traceback (most recent call last)",
      "\u001b[1;32m~\\AppData\\Local\\Temp/ipykernel_4000/1357263918.py\u001b[0m in \u001b[0;36m<module>\u001b[1;34m\u001b[0m\n\u001b[0;32m      2\u001b[0m \u001b[0mtanggal_akhir\u001b[0m \u001b[1;33m=\u001b[0m \u001b[0mdatetime\u001b[0m\u001b[1;33m.\u001b[0m\u001b[0mdatetime\u001b[0m\u001b[1;33m(\u001b[0m\u001b[1;36m2021\u001b[0m\u001b[1;33m,\u001b[0m\u001b[1;36m1\u001b[0m\u001b[1;33m,\u001b[0m\u001b[1;36m15\u001b[0m\u001b[1;33m)\u001b[0m \u001b[1;31m# 14 Januari 2021\u001b[0m\u001b[1;33m\u001b[0m\u001b[1;33m\u001b[0m\u001b[0m\n\u001b[0;32m      3\u001b[0m \u001b[1;33m\u001b[0m\u001b[0m\n\u001b[1;32m----> 4\u001b[1;33m hasil_filter = filter_katalog_waktu(tanggal_awal, tanggal_akhir, waktu, longitude, latitude, \\\n\u001b[0m\u001b[0;32m      5\u001b[0m                                     kedalaman, magnitudo)\n\u001b[0;32m      6\u001b[0m \u001b[1;33m\u001b[0m\u001b[0m\n",
      "\u001b[1;31mNameError\u001b[0m: name 'waktu' is not defined"
     ]
    }
   ],
   "source": [
    "tanggal_awal = datetime.datetime(2021,1,14) # 12 Januari 2021\n",
    "tanggal_akhir = datetime.datetime(2021,1,15) # 14 Januari 2021\n",
    "\n",
    "hasil_filter = filter_katalog_waktu(tanggal_awal, tanggal_akhir, waktu, longitude, latitude, \\\n",
    "                                    kedalaman, magnitudo)\n",
    "\n",
    "hasil_filter"
   ]
  },
  {
   "cell_type": "code",
   "execution_count": 26,
   "id": "ffdca4df",
   "metadata": {},
   "outputs": [],
   "source": [
    "import datetime"
   ]
  },
  {
   "cell_type": "code",
   "execution_count": 27,
   "id": "083da6ce",
   "metadata": {},
   "outputs": [
    {
     "name": "stdout",
     "output_type": "stream",
     "text": [
      "Help on built-in function strptime:\n",
      "\n",
      "strptime(...) method of builtins.type instance\n",
      "    string, format -> new datetime parsed from a string (like time.strptime()).\n",
      "\n"
     ]
    }
   ],
   "source": [
    "import datetime\n",
    "help(datetime.datetime.strptime)"
   ]
  },
  {
   "cell_type": "code",
   "execution_count": 28,
   "id": "215cad50",
   "metadata": {},
   "outputs": [
    {
     "name": "stdout",
     "output_type": "stream",
     "text": [
      "Help on built-in function strptime in module time:\n",
      "\n",
      "strptime(...)\n",
      "    strptime(string, format) -> struct_time\n",
      "    \n",
      "    Parse a string to a time tuple according to a format specification.\n",
      "    See the library reference manual for formatting codes (same as\n",
      "    strftime()).\n",
      "    \n",
      "    Commonly used format codes:\n",
      "    \n",
      "    %Y  Year with century as a decimal number.\n",
      "    %m  Month as a decimal number [01,12].\n",
      "    %d  Day of the month as a decimal number [01,31].\n",
      "    %H  Hour (24-hour clock) as a decimal number [00,23].\n",
      "    %M  Minute as a decimal number [00,59].\n",
      "    %S  Second as a decimal number [00,61].\n",
      "    %z  Time zone offset from UTC.\n",
      "    %a  Locale's abbreviated weekday name.\n",
      "    %A  Locale's full weekday name.\n",
      "    %b  Locale's abbreviated month name.\n",
      "    %B  Locale's full month name.\n",
      "    %c  Locale's appropriate date and time representation.\n",
      "    %I  Hour (12-hour clock) as a decimal number [01,12].\n",
      "    %p  Locale's equivalent of either AM or PM.\n",
      "    \n",
      "    Other codes may be available on your platform.  See documentation for\n",
      "    the C library strftime function.\n",
      "\n"
     ]
    }
   ],
   "source": [
    "import time\n",
    "help(time.strptime)"
   ]
  },
  {
   "cell_type": "code",
   "execution_count": 29,
   "id": "cd608f14",
   "metadata": {},
   "outputs": [
    {
     "ename": "NameError",
     "evalue": "name 'time_pertama' is not defined",
     "output_type": "error",
     "traceback": [
      "\u001b[1;31m---------------------------------------------------------------------------\u001b[0m",
      "\u001b[1;31mNameError\u001b[0m                                 Traceback (most recent call last)",
      "\u001b[1;32m~\\AppData\\Local\\Temp/ipykernel_4000/659996593.py\u001b[0m in \u001b[0;36m<module>\u001b[1;34m\u001b[0m\n\u001b[1;32m----> 1\u001b[1;33m \u001b[0mprint\u001b[0m\u001b[1;33m(\u001b[0m\u001b[1;34m\"time_pertama\"\u001b[0m\u001b[1;33m,\u001b[0m\u001b[0mtime_pertama\u001b[0m\u001b[1;33m)\u001b[0m\u001b[1;33m\u001b[0m\u001b[1;33m\u001b[0m\u001b[0m\n\u001b[0m\u001b[0;32m      2\u001b[0m \u001b[0mprint\u001b[0m\u001b[1;33m(\u001b[0m\u001b[1;34m\"time_pertama_dt\"\u001b[0m\u001b[1;33m,\u001b[0m\u001b[0mtime_pertama_dt\u001b[0m\u001b[1;33m)\u001b[0m\u001b[1;33m\u001b[0m\u001b[1;33m\u001b[0m\u001b[0m\n",
      "\u001b[1;31mNameError\u001b[0m: name 'time_pertama' is not defined"
     ]
    }
   ],
   "source": [
    "print(\"time_pertama\",time_pertama)\n",
    "print(\"time_pertama_dt\",time_pertama_dt)"
   ]
  },
  {
   "cell_type": "code",
   "execution_count": 30,
   "id": "827b5a2d",
   "metadata": {},
   "outputs": [],
   "source": [
    "import pandas as pd"
   ]
  },
  {
   "cell_type": "code",
   "execution_count": 31,
   "id": "204f2882",
   "metadata": {},
   "outputs": [],
   "source": [
    "data = pd.read_csv(\"demo_data_BMKG_Mamuju.csv\")"
   ]
  },
  {
   "cell_type": "code",
   "execution_count": 32,
   "id": "fd944e20",
   "metadata": {},
   "outputs": [
    {
     "data": {
      "text/html": [
       "<div>\n",
       "<style scoped>\n",
       "    .dataframe tbody tr th:only-of-type {\n",
       "        vertical-align: middle;\n",
       "    }\n",
       "\n",
       "    .dataframe tbody tr th {\n",
       "        vertical-align: top;\n",
       "    }\n",
       "\n",
       "    .dataframe thead th {\n",
       "        text-align: right;\n",
       "    }\n",
       "</style>\n",
       "<table border=\"1\" class=\"dataframe\">\n",
       "  <thead>\n",
       "    <tr style=\"text-align: right;\">\n",
       "      <th></th>\n",
       "      <th>time</th>\n",
       "      <th>latitude</th>\n",
       "      <th>longitude</th>\n",
       "      <th>depth</th>\n",
       "      <th>magnitude</th>\n",
       "    </tr>\n",
       "  </thead>\n",
       "  <tbody>\n",
       "    <tr>\n",
       "      <th>0</th>\n",
       "      <td>2021-01-27T18:43:24.965Z</td>\n",
       "      <td>-2.97</td>\n",
       "      <td>118.83</td>\n",
       "      <td>11</td>\n",
       "      <td>3.7</td>\n",
       "    </tr>\n",
       "    <tr>\n",
       "      <th>1</th>\n",
       "      <td>2021-01-25T16:04:16.363Z</td>\n",
       "      <td>-3.01</td>\n",
       "      <td>118.80</td>\n",
       "      <td>47</td>\n",
       "      <td>2.8</td>\n",
       "    </tr>\n",
       "    <tr>\n",
       "      <th>2</th>\n",
       "      <td>2021-01-24T20:52:08.070Z</td>\n",
       "      <td>-2.94</td>\n",
       "      <td>118.61</td>\n",
       "      <td>10</td>\n",
       "      <td>2.6</td>\n",
       "    </tr>\n",
       "    <tr>\n",
       "      <th>3</th>\n",
       "      <td>2021-01-24T16:52:55.221Z</td>\n",
       "      <td>-3.00</td>\n",
       "      <td>118.80</td>\n",
       "      <td>35</td>\n",
       "      <td>2.4</td>\n",
       "    </tr>\n",
       "    <tr>\n",
       "      <th>4</th>\n",
       "      <td>2021-01-24T02:38:50.171Z</td>\n",
       "      <td>-2.95</td>\n",
       "      <td>118.88</td>\n",
       "      <td>14</td>\n",
       "      <td>3.1</td>\n",
       "    </tr>\n",
       "  </tbody>\n",
       "</table>\n",
       "</div>"
      ],
      "text/plain": [
       "                       time  latitude  longitude  depth  magnitude\n",
       "0  2021-01-27T18:43:24.965Z     -2.97     118.83     11        3.7\n",
       "1  2021-01-25T16:04:16.363Z     -3.01     118.80     47        2.8\n",
       "2  2021-01-24T20:52:08.070Z     -2.94     118.61     10        2.6\n",
       "3  2021-01-24T16:52:55.221Z     -3.00     118.80     35        2.4\n",
       "4  2021-01-24T02:38:50.171Z     -2.95     118.88     14        3.1"
      ]
     },
     "execution_count": 32,
     "metadata": {},
     "output_type": "execute_result"
    }
   ],
   "source": [
    "data.head()"
   ]
  },
  {
   "cell_type": "code",
   "execution_count": 33,
   "id": "87fd8b66",
   "metadata": {},
   "outputs": [
    {
     "name": "stdout",
     "output_type": "stream",
     "text": [
      "Help on built-in function strptime in module time:\n",
      "\n",
      "strptime(...)\n",
      "    strptime(string, format) -> struct_time\n",
      "    \n",
      "    Parse a string to a time tuple according to a format specification.\n",
      "    See the library reference manual for formatting codes (same as\n",
      "    strftime()).\n",
      "    \n",
      "    Commonly used format codes:\n",
      "    \n",
      "    %Y  Year with century as a decimal number.\n",
      "    %m  Month as a decimal number [01,12].\n",
      "    %d  Day of the month as a decimal number [01,31].\n",
      "    %H  Hour (24-hour clock) as a decimal number [00,23].\n",
      "    %M  Minute as a decimal number [00,59].\n",
      "    %S  Second as a decimal number [00,61].\n",
      "    %z  Time zone offset from UTC.\n",
      "    %a  Locale's abbreviated weekday name.\n",
      "    %A  Locale's full weekday name.\n",
      "    %b  Locale's abbreviated month name.\n",
      "    %B  Locale's full month name.\n",
      "    %c  Locale's appropriate date and time representation.\n",
      "    %I  Hour (12-hour clock) as a decimal number [01,12].\n",
      "    %p  Locale's equivalent of either AM or PM.\n",
      "    \n",
      "    Other codes may be available on your platform.  See documentation for\n",
      "    the C library strftime function.\n",
      "\n"
     ]
    }
   ],
   "source": [
    "import time\n",
    "help(time.strptime)"
   ]
  },
  {
   "cell_type": "code",
   "execution_count": 34,
   "id": "d6f9f6a1",
   "metadata": {},
   "outputs": [],
   "source": [
    "def filter_katalog_waktu(waktu_awal, waktu_akhir, waktu, longitude, \\\n",
    "                         latitude, kedalaman, magnitudo):\n",
    "    \"\"\"Fungsi untuk memfilter katalog berdasarkan waktu\n",
    "    \n",
    "    Parameters:\n",
    "    waktu_awal : datetime.datetime\n",
    "        Waktu awal untuk proses filter\n",
    "    waktu_akhir : datetime.datetime\n",
    "        Waktu akhir untuk proses filter\n",
    "    waktu : list\n",
    "        List yang berisi waktu kejadian\n",
    "    longitude : list\n",
    "        List yang berisi longitude\n",
    "    latitude : list\n",
    "        List yang berisi latitude\n",
    "    kedalaman : list\n",
    "        List yang berisi kedalaman\n",
    "    magnitudo : list\n",
    "        List yang berisi magnitudo\n",
    "    \n",
    "        \n",
    "    Returns:\n",
    "    waktu_hasil_filter : list\n",
    "        List yang berisi waktu kejadian hasil filter\n",
    "    longitude_hasil_filter : list\n",
    "        List yang berisi longitude hasil filter\n",
    "    latitude_hasil_filter : list\n",
    "        List yang berisi latitude hasil filter\n",
    "    kedalaman_hasil_filter : list\n",
    "        List yang berisi kedalaman hasil filter\n",
    "    magnitudo_hasil_filter : list\n",
    "        List yang berisi magnitudo hasil filter\n",
    "    \"\"\" \n",
    "        \n",
    "    #katalog hasil_filter\n",
    "    waktu_hasil_filter = []\n",
    "    longitude_hasil_filter = []\n",
    "    latitude_hasil_filter = []\n",
    "    kedalaman_hasil_filter = []\n",
    "    magnitudo_hasil_filter = []\n",
    "\n",
    "    # mengumpulkan kolom menjadi satu `zip`\n",
    "    katalog = zip(waktu, latitude, longitude, kedalaman, magnitudo)\n",
    "\n",
    "    for t,lat,lon,ked,mag in katalog:\n",
    "        # jika waktu lebih dari tanggal awal dan kurang dari tanggal akhir\n",
    "        if t>waktu_awal and t<waktu_akhir:\n",
    "            waktu_hasil_filter.append(t)\n",
    "            longitude_hasil_filter.append(lon)\n",
    "            latitude_hasil_filter.append(lat)\n",
    "            kedalaman_hasil_filter.append(ked)\n",
    "            magnitudo_hasil_filter.append(mag)\n",
    "    \n",
    "    print(\"Semua data\",len(waktu))\n",
    "    print(\"Data hasil_filter\",len(waktu_hasil_filter))\n",
    "    return waktu_hasil_filter, longitude_hasil_filter, latitude_hasil_filter, \\\n",
    "            kedalaman_hasil_filter, magnitudo_hasil_filter"
   ]
  },
  {
   "cell_type": "code",
   "execution_count": 35,
   "id": "4824aa5e",
   "metadata": {},
   "outputs": [
    {
     "ename": "NameError",
     "evalue": "name 'waktu' is not defined",
     "output_type": "error",
     "traceback": [
      "\u001b[1;31m---------------------------------------------------------------------------\u001b[0m",
      "\u001b[1;31mNameError\u001b[0m                                 Traceback (most recent call last)",
      "\u001b[1;32m~\\AppData\\Local\\Temp/ipykernel_4000/1357263918.py\u001b[0m in \u001b[0;36m<module>\u001b[1;34m\u001b[0m\n\u001b[0;32m      2\u001b[0m \u001b[0mtanggal_akhir\u001b[0m \u001b[1;33m=\u001b[0m \u001b[0mdatetime\u001b[0m\u001b[1;33m.\u001b[0m\u001b[0mdatetime\u001b[0m\u001b[1;33m(\u001b[0m\u001b[1;36m2021\u001b[0m\u001b[1;33m,\u001b[0m\u001b[1;36m1\u001b[0m\u001b[1;33m,\u001b[0m\u001b[1;36m15\u001b[0m\u001b[1;33m)\u001b[0m \u001b[1;31m# 14 Januari 2021\u001b[0m\u001b[1;33m\u001b[0m\u001b[1;33m\u001b[0m\u001b[0m\n\u001b[0;32m      3\u001b[0m \u001b[1;33m\u001b[0m\u001b[0m\n\u001b[1;32m----> 4\u001b[1;33m hasil_filter = filter_katalog_waktu(tanggal_awal, tanggal_akhir, waktu, longitude, latitude, \\\n\u001b[0m\u001b[0;32m      5\u001b[0m                                     kedalaman, magnitudo)\n\u001b[0;32m      6\u001b[0m \u001b[1;33m\u001b[0m\u001b[0m\n",
      "\u001b[1;31mNameError\u001b[0m: name 'waktu' is not defined"
     ]
    }
   ],
   "source": [
    "tanggal_awal = datetime.datetime(2021,1,14) # 12 Januari 2021\n",
    "tanggal_akhir = datetime.datetime(2021,1,15) # 14 Januari 2021\n",
    "\n",
    "hasil_filter = filter_katalog_waktu(tanggal_awal, tanggal_akhir, waktu, longitude, latitude, \\\n",
    "                                    kedalaman, magnitudo)\n",
    "\n",
    "hasil_filter"
   ]
  },
  {
   "cell_type": "code",
   "execution_count": 36,
   "id": "f2850b7b",
   "metadata": {},
   "outputs": [
    {
     "ename": "NameError",
     "evalue": "name 'hasil_filter' is not defined",
     "output_type": "error",
     "traceback": [
      "\u001b[1;31m---------------------------------------------------------------------------\u001b[0m",
      "\u001b[1;31mNameError\u001b[0m                                 Traceback (most recent call last)",
      "\u001b[1;32m~\\AppData\\Local\\Temp/ipykernel_4000/443244432.py\u001b[0m in \u001b[0;36m<module>\u001b[1;34m\u001b[0m\n\u001b[1;32m----> 1\u001b[1;33m \u001b[0mhasil_filter_t\u001b[0m \u001b[1;33m=\u001b[0m \u001b[0mhasil_filter\u001b[0m\u001b[1;33m[\u001b[0m\u001b[1;36m0\u001b[0m\u001b[1;33m]\u001b[0m\u001b[1;33m\u001b[0m\u001b[1;33m\u001b[0m\u001b[0m\n\u001b[0m\u001b[0;32m      2\u001b[0m \u001b[0mhasil_filter_lon\u001b[0m \u001b[1;33m=\u001b[0m \u001b[0mhasil_filter\u001b[0m\u001b[1;33m[\u001b[0m\u001b[1;36m1\u001b[0m\u001b[1;33m]\u001b[0m\u001b[1;33m\u001b[0m\u001b[1;33m\u001b[0m\u001b[0m\n\u001b[0;32m      3\u001b[0m \u001b[0mhasil_filter_lat\u001b[0m \u001b[1;33m=\u001b[0m \u001b[0mhasil_filter\u001b[0m\u001b[1;33m[\u001b[0m\u001b[1;36m2\u001b[0m\u001b[1;33m]\u001b[0m\u001b[1;33m\u001b[0m\u001b[1;33m\u001b[0m\u001b[0m\n\u001b[0;32m      4\u001b[0m \u001b[0mhasil_filter_ked\u001b[0m \u001b[1;33m=\u001b[0m \u001b[0mhasil_filter\u001b[0m\u001b[1;33m[\u001b[0m\u001b[1;36m3\u001b[0m\u001b[1;33m]\u001b[0m\u001b[1;33m\u001b[0m\u001b[1;33m\u001b[0m\u001b[0m\n\u001b[0;32m      5\u001b[0m \u001b[0mhasil_filter_mag\u001b[0m \u001b[1;33m=\u001b[0m \u001b[0mhasil_filter\u001b[0m\u001b[1;33m[\u001b[0m\u001b[1;36m4\u001b[0m\u001b[1;33m]\u001b[0m\u001b[1;33m\u001b[0m\u001b[1;33m\u001b[0m\u001b[0m\n",
      "\u001b[1;31mNameError\u001b[0m: name 'hasil_filter' is not defined"
     ]
    }
   ],
   "source": [
    "hasil_filter_t = hasil_filter[0]\n",
    "hasil_filter_lon = hasil_filter[1]\n",
    "hasil_filter_lat = hasil_filter[2]\n",
    "hasil_filter_ked = hasil_filter[3]\n",
    "hasil_filter_mag = hasil_filter[4]"
   ]
  },
  {
   "cell_type": "code",
   "execution_count": 37,
   "id": "6f777a8b",
   "metadata": {},
   "outputs": [
    {
     "ename": "NameError",
     "evalue": "name 'katalog_dict' is not defined",
     "output_type": "error",
     "traceback": [
      "\u001b[1;31m---------------------------------------------------------------------------\u001b[0m",
      "\u001b[1;31mNameError\u001b[0m                                 Traceback (most recent call last)",
      "\u001b[1;32m~\\AppData\\Local\\Temp/ipykernel_4000/2018289544.py\u001b[0m in \u001b[0;36m<module>\u001b[1;34m\u001b[0m\n\u001b[1;32m----> 1\u001b[1;33m \u001b[0mkatalog_dict\u001b[0m\u001b[1;33m.\u001b[0m\u001b[0mkeys\u001b[0m\u001b[1;33m(\u001b[0m\u001b[1;33m)\u001b[0m\u001b[1;33m\u001b[0m\u001b[1;33m\u001b[0m\u001b[0m\n\u001b[0m",
      "\u001b[1;31mNameError\u001b[0m: name 'katalog_dict' is not defined"
     ]
    }
   ],
   "source": [
    "katalog_dict.keys()"
   ]
  },
  {
   "cell_type": "code",
   "execution_count": 38,
   "id": "ecbbe8be",
   "metadata": {},
   "outputs": [
    {
     "ename": "NameError",
     "evalue": "name 'kolom_waktu' is not defined",
     "output_type": "error",
     "traceback": [
      "\u001b[1;31m---------------------------------------------------------------------------\u001b[0m",
      "\u001b[1;31mNameError\u001b[0m                                 Traceback (most recent call last)",
      "\u001b[1;32m~\\AppData\\Local\\Temp/ipykernel_4000/1951697919.py\u001b[0m in \u001b[0;36m<module>\u001b[1;34m\u001b[0m\n\u001b[1;32m----> 1\u001b[1;33m katalog_dict = dict(waktu=kolom_waktu,\n\u001b[0m\u001b[0;32m      2\u001b[0m                     \u001b[0mlatitude\u001b[0m\u001b[1;33m=\u001b[0m\u001b[0mkolom_latitude\u001b[0m\u001b[1;33m,\u001b[0m\u001b[1;33m\u001b[0m\u001b[1;33m\u001b[0m\u001b[0m\n\u001b[0;32m      3\u001b[0m                     \u001b[0mlongitude\u001b[0m\u001b[1;33m=\u001b[0m\u001b[0mkolom_longitude\u001b[0m\u001b[1;33m,\u001b[0m\u001b[1;33m\u001b[0m\u001b[1;33m\u001b[0m\u001b[0m\n\u001b[0;32m      4\u001b[0m                     \u001b[0mkedalaman\u001b[0m\u001b[1;33m=\u001b[0m\u001b[0mkolom_kedalaman\u001b[0m\u001b[1;33m,\u001b[0m\u001b[1;33m\u001b[0m\u001b[1;33m\u001b[0m\u001b[0m\n\u001b[0;32m      5\u001b[0m                     magnitudo=kolom_magnitudo)\n",
      "\u001b[1;31mNameError\u001b[0m: name 'kolom_waktu' is not defined"
     ]
    }
   ],
   "source": [
    "katalog_dict = dict(waktu=kolom_waktu,\n",
    "                    latitude=kolom_latitude,\n",
    "                    longitude=kolom_longitude,\n",
    "                    kedalaman=kolom_kedalaman,\n",
    "                    magnitudo=kolom_magnitudo)\n",
    "katalog_dict"
   ]
  },
  {
   "cell_type": "code",
   "execution_count": 39,
   "id": "5dac9504",
   "metadata": {},
   "outputs": [
    {
     "ename": "NameError",
     "evalue": "name 'kolom_waktu' is not defined",
     "output_type": "error",
     "traceback": [
      "\u001b[1;31m---------------------------------------------------------------------------\u001b[0m",
      "\u001b[1;31mNameError\u001b[0m                                 Traceback (most recent call last)",
      "\u001b[1;32m~\\AppData\\Local\\Temp/ipykernel_4000/1951697919.py\u001b[0m in \u001b[0;36m<module>\u001b[1;34m\u001b[0m\n\u001b[1;32m----> 1\u001b[1;33m katalog_dict = dict(waktu=kolom_waktu,\n\u001b[0m\u001b[0;32m      2\u001b[0m                     \u001b[0mlatitude\u001b[0m\u001b[1;33m=\u001b[0m\u001b[0mkolom_latitude\u001b[0m\u001b[1;33m,\u001b[0m\u001b[1;33m\u001b[0m\u001b[1;33m\u001b[0m\u001b[0m\n\u001b[0;32m      3\u001b[0m                     \u001b[0mlongitude\u001b[0m\u001b[1;33m=\u001b[0m\u001b[0mkolom_longitude\u001b[0m\u001b[1;33m,\u001b[0m\u001b[1;33m\u001b[0m\u001b[1;33m\u001b[0m\u001b[0m\n\u001b[0;32m      4\u001b[0m                     \u001b[0mkedalaman\u001b[0m\u001b[1;33m=\u001b[0m\u001b[0mkolom_kedalaman\u001b[0m\u001b[1;33m,\u001b[0m\u001b[1;33m\u001b[0m\u001b[1;33m\u001b[0m\u001b[0m\n\u001b[0;32m      5\u001b[0m                     magnitudo=kolom_magnitudo)\n",
      "\u001b[1;31mNameError\u001b[0m: name 'kolom_waktu' is not defined"
     ]
    }
   ],
   "source": [
    "katalog_dict = dict(waktu=kolom_waktu,\n",
    "                    latitude=kolom_latitude,\n",
    "                    longitude=kolom_longitude,\n",
    "                    kedalaman=kolom_kedalaman,\n",
    "                    magnitudo=kolom_magnitudo)\n",
    "katalog_dict"
   ]
  },
  {
   "cell_type": "code",
   "execution_count": 40,
   "id": "6e1fba22",
   "metadata": {},
   "outputs": [],
   "source": [
    "def filter_katalog_waktu(waktu_awal, waktu_akhir, waktu, longitude, \\\n",
    "                         latitude, kedalaman, magnitudo):\n",
    "    \"\"\"Fungsi untuk memfilter katalog berdasarkan waktu\n",
    "    \n",
    "    Parameters:\n",
    "    waktu_awal : datetime.datetime\n",
    "        Waktu awal untuk proses filter\n",
    "    waktu_akhir : datetime.datetime\n",
    "        Waktu akhir untuk proses filter\n",
    "    waktu : list\n",
    "        List yang berisi waktu kejadian\n",
    "    longitude : list\n",
    "        List yang berisi longitude\n",
    "    latitude : list\n",
    "        List yang berisi latitude\n",
    "    kedalaman : list\n",
    "        List yang berisi kedalaman\n",
    "    magnitudo : list\n",
    "        List yang berisi magnitudo\n",
    "    \n",
    "        \n",
    "    Returns:\n",
    "    waktu_hasil_filter : list\n",
    "        List yang berisi waktu kejadian hasil filter\n",
    "    longitude_hasil_filter : list\n",
    "        List yang berisi longitude hasil filter\n",
    "    latitude_hasil_filter : list\n",
    "        List yang berisi latitude hasil filter\n",
    "    kedalaman_hasil_filter : list\n",
    "        List yang berisi kedalaman hasil filter\n",
    "    magnitudo_hasil_filter : list\n",
    "        List yang berisi magnitudo hasil filter\n",
    "    \"\"\" \n",
    "        \n",
    "    #katalog hasil_filter\n",
    "    waktu_hasil_filter = []\n",
    "    longitude_hasil_filter = []\n",
    "    latitude_hasil_filter = []\n",
    "    kedalaman_hasil_filter = []\n",
    "    magnitudo_hasil_filter = []\n",
    "\n",
    "    # mengumpulkan kolom menjadi satu `zip`\n",
    "    katalog = zip(waktu, latitude, longitude, kedalaman, magnitudo)\n",
    "\n",
    "    for t,lat,lon,ked,mag in katalog:\n",
    "        # jika waktu lebih dari tanggal awal dan kurang dari tanggal akhir\n",
    "        if t>waktu_awal and t<waktu_akhir:\n",
    "            waktu_hasil_filter.append(t)\n",
    "            longitude_hasil_filter.append(lon)\n",
    "            latitude_hasil_filter.append(lat)\n",
    "            kedalaman_hasil_filter.append(ked)\n",
    "            magnitudo_hasil_filter.append(mag)\n",
    "    \n",
    "    print(\"Semua data\",len(waktu))\n",
    "    print(\"Data hasil_filter\",len(waktu_hasil_filter))\n",
    "    return waktu_hasil_filter, longitude_hasil_filter, latitude_hasil_filter, \\\n",
    "            kedalaman_hasil_filter, magnitudo_hasil_filter"
   ]
  },
  {
   "cell_type": "code",
   "execution_count": 41,
   "id": "5618ca81",
   "metadata": {},
   "outputs": [
    {
     "name": "stdout",
     "output_type": "stream",
     "text": [
      "Help on function filter_katalog_waktu in module __main__:\n",
      "\n",
      "filter_katalog_waktu(waktu_awal, waktu_akhir, waktu, longitude, latitude, kedalaman, magnitudo)\n",
      "    Fungsi untuk memfilter katalog berdasarkan waktu\n",
      "    \n",
      "    Parameters:\n",
      "    waktu_awal : datetime.datetime\n",
      "        Waktu awal untuk proses filter\n",
      "    waktu_akhir : datetime.datetime\n",
      "        Waktu akhir untuk proses filter\n",
      "    waktu : list\n",
      "        List yang berisi waktu kejadian\n",
      "    longitude : list\n",
      "        List yang berisi longitude\n",
      "    latitude : list\n",
      "        List yang berisi latitude\n",
      "    kedalaman : list\n",
      "        List yang berisi kedalaman\n",
      "    magnitudo : list\n",
      "        List yang berisi magnitudo\n",
      "    \n",
      "        \n",
      "    Returns:\n",
      "    waktu_hasil_filter : list\n",
      "        List yang berisi waktu kejadian hasil filter\n",
      "    longitude_hasil_filter : list\n",
      "        List yang berisi longitude hasil filter\n",
      "    latitude_hasil_filter : list\n",
      "        List yang berisi latitude hasil filter\n",
      "    kedalaman_hasil_filter : list\n",
      "        List yang berisi kedalaman hasil filter\n",
      "    magnitudo_hasil_filter : list\n",
      "        List yang berisi magnitudo hasil filter\n",
      "\n"
     ]
    }
   ],
   "source": [
    "help(filter_katalog_waktu)"
   ]
  },
  {
   "cell_type": "code",
   "execution_count": 44,
   "id": "59495db5",
   "metadata": {},
   "outputs": [
    {
     "ename": "TypeError",
     "evalue": "filter_katalog_waktu() missing 5 required positional arguments: 'waktu', 'longitude', 'latitude', 'kedalaman', and 'magnitudo'",
     "output_type": "error",
     "traceback": [
      "\u001b[1;31m---------------------------------------------------------------------------\u001b[0m",
      "\u001b[1;31mTypeError\u001b[0m                                 Traceback (most recent call last)",
      "\u001b[1;32m~\\AppData\\Local\\Temp/ipykernel_4000/1200622921.py\u001b[0m in \u001b[0;36m<module>\u001b[1;34m\u001b[0m\n\u001b[0;32m      2\u001b[0m \u001b[0mtanggal_akhir\u001b[0m \u001b[1;33m=\u001b[0m \u001b[0mdatetime\u001b[0m\u001b[1;33m.\u001b[0m\u001b[0mdatetime\u001b[0m\u001b[1;33m(\u001b[0m\u001b[1;36m2021\u001b[0m\u001b[1;33m,\u001b[0m\u001b[1;36m1\u001b[0m\u001b[1;33m,\u001b[0m\u001b[1;36m15\u001b[0m\u001b[1;33m)\u001b[0m \u001b[1;31m# 14 Januari 2021\u001b[0m\u001b[1;33m\u001b[0m\u001b[1;33m\u001b[0m\u001b[0m\n\u001b[0;32m      3\u001b[0m \u001b[1;33m\u001b[0m\u001b[0m\n\u001b[1;32m----> 4\u001b[1;33m \u001b[0mhasil_filter\u001b[0m \u001b[1;33m=\u001b[0m \u001b[0mfilter_katalog_waktu\u001b[0m\u001b[1;33m(\u001b[0m\u001b[0mtanggal_awal\u001b[0m\u001b[1;33m,\u001b[0m \u001b[0mtanggal_akhir\u001b[0m\u001b[1;33m)\u001b[0m\u001b[1;33m\u001b[0m\u001b[1;33m\u001b[0m\u001b[0m\n\u001b[0m\u001b[0;32m      5\u001b[0m \u001b[1;33m\u001b[0m\u001b[0m\n\u001b[0;32m      6\u001b[0m \u001b[0mhasil_filter\u001b[0m\u001b[1;33m\u001b[0m\u001b[1;33m\u001b[0m\u001b[0m\n",
      "\u001b[1;31mTypeError\u001b[0m: filter_katalog_waktu() missing 5 required positional arguments: 'waktu', 'longitude', 'latitude', 'kedalaman', and 'magnitudo'"
     ]
    }
   ],
   "source": [
    "tanggal_awal = datetime.datetime(2021,1,14) # 12 Januari 2021\n",
    "tanggal_akhir = datetime.datetime(2021,1,15) # 14 Januari 2021\n",
    "\n",
    "hasil_filter = filter_katalog_waktu(tanggal_awal, tanggal_akhir)\n",
    "\n",
    "hasil_filter"
   ]
  },
  {
   "cell_type": "code",
   "execution_count": 45,
   "id": "b17a42eb",
   "metadata": {},
   "outputs": [
    {
     "ename": "NameError",
     "evalue": "name 'katalog_dict' is not defined",
     "output_type": "error",
     "traceback": [
      "\u001b[1;31m---------------------------------------------------------------------------\u001b[0m",
      "\u001b[1;31mNameError\u001b[0m                                 Traceback (most recent call last)",
      "\u001b[1;32m~\\AppData\\Local\\Temp/ipykernel_4000/306758782.py\u001b[0m in \u001b[0;36m<module>\u001b[1;34m\u001b[0m\n\u001b[0;32m     10\u001b[0m \u001b[1;33m\u001b[0m\u001b[0m\n\u001b[0;32m     11\u001b[0m \u001b[1;31m#memisahkan_masing-masing_kolom_kembali\u001b[0m\u001b[1;33m\u001b[0m\u001b[1;33m\u001b[0m\u001b[0m\n\u001b[1;32m---> 12\u001b[1;33m \u001b[0mwaktu\u001b[0m \u001b[1;33m=\u001b[0m \u001b[0mkatalog_dict\u001b[0m\u001b[1;33m[\u001b[0m\u001b[1;34m'waktu'\u001b[0m\u001b[1;33m]\u001b[0m\u001b[1;33m\u001b[0m\u001b[1;33m\u001b[0m\u001b[0m\n\u001b[0m\u001b[0;32m     13\u001b[0m \u001b[0mlatitude\u001b[0m \u001b[1;33m=\u001b[0m \u001b[0mkatalog_dict\u001b[0m\u001b[1;33m[\u001b[0m\u001b[1;34m'latitude'\u001b[0m\u001b[1;33m]\u001b[0m\u001b[1;33m\u001b[0m\u001b[1;33m\u001b[0m\u001b[0m\n\u001b[0;32m     14\u001b[0m \u001b[0mlongitude\u001b[0m \u001b[1;33m=\u001b[0m \u001b[0mkatalog_dict\u001b[0m\u001b[1;33m[\u001b[0m\u001b[1;34m'longitude'\u001b[0m\u001b[1;33m]\u001b[0m\u001b[1;33m\u001b[0m\u001b[1;33m\u001b[0m\u001b[0m\n",
      "\u001b[1;31mNameError\u001b[0m: name 'katalog_dict' is not defined"
     ]
    }
   ],
   "source": [
    "tanggal_awal = datetime.datetime(2021,1,14) #14 Januari 2021\n",
    "tanggal_akhir = datetime.datetime(2021,1,15) #15 Januari 2021\n",
    "\n",
    "#katalog_hasil_filter\n",
    "waktu_hasil_filter=[]\n",
    "latitude_hasil_filter=[]\n",
    "longitude_hasil_filter=[]\n",
    "kedalaman_hasil_filter=[]\n",
    "magnitudo_hasil_filter=[]\n",
    "\n",
    "#memisahkan_masing-masing_kolom_kembali\n",
    "waktu = katalog_dict['waktu']\n",
    "latitude = katalog_dict['latitude']\n",
    "longitude = katalog_dict['longitude']\n",
    "kedalaman = katalog_dict['kedalaman']\n",
    "magnitudo = katalog_dict['magnitudo']\n",
    "\n",
    "#mengumpulkan kolom menjadi satu 'zip'\n",
    "katalog = zip(waktu, latitude, longitude, kedalaman, magnitudo)\n",
    "\n",
    "for t, lat, lon, dep, mag in katalog:\n",
    "    #jika waktu lebih dari tanggal awal dan kurang dari tanggal akhir\n",
    "    if t>tanggal_awal and t<tanggal_akhir:\n",
    "        waktu_hasil_filter.append(t)\n",
    "        latitude_hasil_filter.append(lat)\n",
    "        longitude_hasil_filter.append(lon)\n",
    "        kedalaman_hasil_filter.append(dep)\n",
    "        magnitudo_hasil_filter.append(mag)\n"
   ]
  },
  {
   "cell_type": "code",
   "execution_count": null,
   "id": "c8369cc6",
   "metadata": {},
   "outputs": [],
   "source": [
    "def filter_katalog_waktu(waktu_awal, waktu_akhir, waktu, longitude, \\\n",
    "                         latitude, kedalaman, magnitudo):\n",
    "    \"\"\"Fungsi untuk memfilter katalog berdasarkan waktu\n",
    "    \n",
    "    Parameters:\n",
    "    waktu_awal : datetime.datetime\n",
    "        Waktu awal untuk proses filter\n",
    "    waktu_akhir : datetime.datetime\n",
    "        Waktu akhir untuk proses filter\n",
    "    waktu : list\n",
    "        List yang berisi waktu kejadian\n",
    "    longitude : list\n",
    "        List yang berisi longitude\n",
    "    latitude : list\n",
    "        List yang berisi latitude\n",
    "    kedalaman : list\n",
    "        List yang berisi kedalaman\n",
    "    magnitudo : list\n",
    "        List yang berisi magnitudo\n",
    "    \n",
    "        \n",
    "    Returns:\n",
    "    waktu_hasil_filter : list\n",
    "        List yang berisi waktu kejadian hasil filter\n",
    "    longitude_hasil_filter : list\n",
    "        List yang berisi longitude hasil filter\n",
    "    latitude_hasil_filter : list\n",
    "        List yang berisi latitude hasil filter\n",
    "    kedalaman_hasil_filter : list\n",
    "        List yang berisi kedalaman hasil filter\n",
    "    magnitudo_hasil_filter : list\n",
    "        List yang berisi magnitudo hasil filter\n",
    "    \"\"\" \n",
    "        \n",
    "    #katalog hasil_filter\n",
    "    waktu_hasil_filter = []\n",
    "    longitude_hasil_filter = []\n",
    "    latitude_hasil_filter = []\n",
    "    kedalaman_hasil_filter = []\n",
    "    magnitudo_hasil_filter = []\n",
    "\n",
    "    # mengumpulkan kolom menjadi satu `zip`\n",
    "    katalog = zip(waktu, latitude, longitude, kedalaman, magnitudo)\n",
    "\n",
    "    for t,lat,lon,ked,mag in katalog:\n",
    "        # jika waktu lebih dari tanggal awal dan kurang dari tanggal akhir\n",
    "        if t>waktu_awal and t<waktu_akhir:\n",
    "            waktu_hasil_filter.append(t)\n",
    "            longitude_hasil_filter.append(lon)\n",
    "            latitude_hasil_filter.append(lat)\n",
    "            kedalaman_hasil_filter.append(ked)\n",
    "            magnitudo_hasil_filter.append(mag)\n",
    "    \n",
    "    print(\"Semua data\",len(waktu))\n",
    "    print(\"Data hasil_filter\",len(waktu_hasil_filter))\n",
    "    return waktu_hasil_filter, longitude_hasil_filter, latitude_hasil_filter, \\\n",
    "            kedalaman_hasil_filter, magnitudo_hasil_filter"
   ]
  },
  {
   "cell_type": "code",
   "execution_count": null,
   "id": "0d012644",
   "metadata": {},
   "outputs": [],
   "source": []
  }
 ],
 "metadata": {
  "kernelspec": {
   "display_name": "Python 3 (ipykernel)",
   "language": "python",
   "name": "python3"
  },
  "language_info": {
   "codemirror_mode": {
    "name": "ipython",
    "version": 3
   },
   "file_extension": ".py",
   "mimetype": "text/x-python",
   "name": "python",
   "nbconvert_exporter": "python",
   "pygments_lexer": "ipython3",
   "version": "3.9.7"
  }
 },
 "nbformat": 4,
 "nbformat_minor": 5
}
